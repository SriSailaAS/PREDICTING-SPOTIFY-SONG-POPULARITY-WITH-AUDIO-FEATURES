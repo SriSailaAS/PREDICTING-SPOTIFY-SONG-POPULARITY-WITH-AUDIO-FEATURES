{
  "nbformat": 4,
  "nbformat_minor": 0,
  "metadata": {
    "colab": {
      "provenance": []
    },
    "kernelspec": {
      "name": "python3",
      "display_name": "Python 3"
    },
    "language_info": {
      "name": "python"
    }
  },
  "cells": [
    {
      "cell_type": "code",
      "execution_count": 92,
      "metadata": {
        "id": "lScCRLZ-sb19"
      },
      "outputs": [],
      "source": [
        "import pandas as pd\n",
        "import numpy as np\n",
        "import seaborn as sns\n",
        "from sklearn.preprocessing import MinMaxScaler\n",
        "import xgboost as xgb\n",
        "from sklearn.preprocessing import LabelEncoder\n",
        "from sklearn.model_selection import train_test_split, GridSearchCV\n",
        "from sklearn.linear_model import LogisticRegression"
      ]
    },
    {
      "cell_type": "code",
      "source": [
        "data=pd.read_csv('song_data.csv') "
      ],
      "metadata": {
        "id": "onKAHpoGs9ho"
      },
      "execution_count": 93,
      "outputs": []
    },
    {
      "cell_type": "code",
      "source": [
        "data.head()"
      ],
      "metadata": {
        "colab": {
          "base_uri": "https://localhost:8080/",
          "height": 391
        },
        "id": "pJvfHJN0tCaN",
        "outputId": "a093388f-6ae3-4540-ef8e-9a82d670a834"
      },
      "execution_count": 94,
      "outputs": [
        {
          "output_type": "execute_result",
          "data": {
            "text/plain": [
              "                    song_name  song_popularity  song_duration_ms  \\\n",
              "0  Boulevard of Broken Dreams               73            262333   \n",
              "1                  In The End               66            216933   \n",
              "2           Seven Nation Army               76            231733   \n",
              "3                  By The Way               74            216933   \n",
              "4           How You Remind Me               56            223826   \n",
              "\n",
              "   acousticness  danceability  energy  instrumentalness  key  liveness  \\\n",
              "0      0.005520         0.496   0.682          0.000029    8    0.0589   \n",
              "1      0.010300         0.542   0.853          0.000000    3    0.1080   \n",
              "2      0.008170         0.737   0.463          0.447000    0    0.2550   \n",
              "3      0.026400         0.451   0.970          0.003550    0    0.1020   \n",
              "4      0.000954         0.447   0.766          0.000000   10    0.1130   \n",
              "\n",
              "   loudness  audio_mode  speechiness    tempo  time_signature  audio_valence  \n",
              "0    -4.095           1       0.0294  167.060               4          0.474  \n",
              "1    -6.407           0       0.0498  105.256               4          0.370  \n",
              "2    -7.828           1       0.0792  123.881               4          0.324  \n",
              "3    -4.938           1       0.1070  122.444               4          0.198  \n",
              "4    -5.065           1       0.0313  172.011               4          0.574  "
            ],
            "text/html": [
              "\n",
              "  <div id=\"df-6ffdc748-e7e7-460a-b7ab-ee8ff66d4597\">\n",
              "    <div class=\"colab-df-container\">\n",
              "      <div>\n",
              "<style scoped>\n",
              "    .dataframe tbody tr th:only-of-type {\n",
              "        vertical-align: middle;\n",
              "    }\n",
              "\n",
              "    .dataframe tbody tr th {\n",
              "        vertical-align: top;\n",
              "    }\n",
              "\n",
              "    .dataframe thead th {\n",
              "        text-align: right;\n",
              "    }\n",
              "</style>\n",
              "<table border=\"1\" class=\"dataframe\">\n",
              "  <thead>\n",
              "    <tr style=\"text-align: right;\">\n",
              "      <th></th>\n",
              "      <th>song_name</th>\n",
              "      <th>song_popularity</th>\n",
              "      <th>song_duration_ms</th>\n",
              "      <th>acousticness</th>\n",
              "      <th>danceability</th>\n",
              "      <th>energy</th>\n",
              "      <th>instrumentalness</th>\n",
              "      <th>key</th>\n",
              "      <th>liveness</th>\n",
              "      <th>loudness</th>\n",
              "      <th>audio_mode</th>\n",
              "      <th>speechiness</th>\n",
              "      <th>tempo</th>\n",
              "      <th>time_signature</th>\n",
              "      <th>audio_valence</th>\n",
              "    </tr>\n",
              "  </thead>\n",
              "  <tbody>\n",
              "    <tr>\n",
              "      <th>0</th>\n",
              "      <td>Boulevard of Broken Dreams</td>\n",
              "      <td>73</td>\n",
              "      <td>262333</td>\n",
              "      <td>0.005520</td>\n",
              "      <td>0.496</td>\n",
              "      <td>0.682</td>\n",
              "      <td>0.000029</td>\n",
              "      <td>8</td>\n",
              "      <td>0.0589</td>\n",
              "      <td>-4.095</td>\n",
              "      <td>1</td>\n",
              "      <td>0.0294</td>\n",
              "      <td>167.060</td>\n",
              "      <td>4</td>\n",
              "      <td>0.474</td>\n",
              "    </tr>\n",
              "    <tr>\n",
              "      <th>1</th>\n",
              "      <td>In The End</td>\n",
              "      <td>66</td>\n",
              "      <td>216933</td>\n",
              "      <td>0.010300</td>\n",
              "      <td>0.542</td>\n",
              "      <td>0.853</td>\n",
              "      <td>0.000000</td>\n",
              "      <td>3</td>\n",
              "      <td>0.1080</td>\n",
              "      <td>-6.407</td>\n",
              "      <td>0</td>\n",
              "      <td>0.0498</td>\n",
              "      <td>105.256</td>\n",
              "      <td>4</td>\n",
              "      <td>0.370</td>\n",
              "    </tr>\n",
              "    <tr>\n",
              "      <th>2</th>\n",
              "      <td>Seven Nation Army</td>\n",
              "      <td>76</td>\n",
              "      <td>231733</td>\n",
              "      <td>0.008170</td>\n",
              "      <td>0.737</td>\n",
              "      <td>0.463</td>\n",
              "      <td>0.447000</td>\n",
              "      <td>0</td>\n",
              "      <td>0.2550</td>\n",
              "      <td>-7.828</td>\n",
              "      <td>1</td>\n",
              "      <td>0.0792</td>\n",
              "      <td>123.881</td>\n",
              "      <td>4</td>\n",
              "      <td>0.324</td>\n",
              "    </tr>\n",
              "    <tr>\n",
              "      <th>3</th>\n",
              "      <td>By The Way</td>\n",
              "      <td>74</td>\n",
              "      <td>216933</td>\n",
              "      <td>0.026400</td>\n",
              "      <td>0.451</td>\n",
              "      <td>0.970</td>\n",
              "      <td>0.003550</td>\n",
              "      <td>0</td>\n",
              "      <td>0.1020</td>\n",
              "      <td>-4.938</td>\n",
              "      <td>1</td>\n",
              "      <td>0.1070</td>\n",
              "      <td>122.444</td>\n",
              "      <td>4</td>\n",
              "      <td>0.198</td>\n",
              "    </tr>\n",
              "    <tr>\n",
              "      <th>4</th>\n",
              "      <td>How You Remind Me</td>\n",
              "      <td>56</td>\n",
              "      <td>223826</td>\n",
              "      <td>0.000954</td>\n",
              "      <td>0.447</td>\n",
              "      <td>0.766</td>\n",
              "      <td>0.000000</td>\n",
              "      <td>10</td>\n",
              "      <td>0.1130</td>\n",
              "      <td>-5.065</td>\n",
              "      <td>1</td>\n",
              "      <td>0.0313</td>\n",
              "      <td>172.011</td>\n",
              "      <td>4</td>\n",
              "      <td>0.574</td>\n",
              "    </tr>\n",
              "  </tbody>\n",
              "</table>\n",
              "</div>\n",
              "      <button class=\"colab-df-convert\" onclick=\"convertToInteractive('df-6ffdc748-e7e7-460a-b7ab-ee8ff66d4597')\"\n",
              "              title=\"Convert this dataframe to an interactive table.\"\n",
              "              style=\"display:none;\">\n",
              "        \n",
              "  <svg xmlns=\"http://www.w3.org/2000/svg\" height=\"24px\"viewBox=\"0 0 24 24\"\n",
              "       width=\"24px\">\n",
              "    <path d=\"M0 0h24v24H0V0z\" fill=\"none\"/>\n",
              "    <path d=\"M18.56 5.44l.94 2.06.94-2.06 2.06-.94-2.06-.94-.94-2.06-.94 2.06-2.06.94zm-11 1L8.5 8.5l.94-2.06 2.06-.94-2.06-.94L8.5 2.5l-.94 2.06-2.06.94zm10 10l.94 2.06.94-2.06 2.06-.94-2.06-.94-.94-2.06-.94 2.06-2.06.94z\"/><path d=\"M17.41 7.96l-1.37-1.37c-.4-.4-.92-.59-1.43-.59-.52 0-1.04.2-1.43.59L10.3 9.45l-7.72 7.72c-.78.78-.78 2.05 0 2.83L4 21.41c.39.39.9.59 1.41.59.51 0 1.02-.2 1.41-.59l7.78-7.78 2.81-2.81c.8-.78.8-2.07 0-2.86zM5.41 20L4 18.59l7.72-7.72 1.47 1.35L5.41 20z\"/>\n",
              "  </svg>\n",
              "      </button>\n",
              "      \n",
              "  <style>\n",
              "    .colab-df-container {\n",
              "      display:flex;\n",
              "      flex-wrap:wrap;\n",
              "      gap: 12px;\n",
              "    }\n",
              "\n",
              "    .colab-df-convert {\n",
              "      background-color: #E8F0FE;\n",
              "      border: none;\n",
              "      border-radius: 50%;\n",
              "      cursor: pointer;\n",
              "      display: none;\n",
              "      fill: #1967D2;\n",
              "      height: 32px;\n",
              "      padding: 0 0 0 0;\n",
              "      width: 32px;\n",
              "    }\n",
              "\n",
              "    .colab-df-convert:hover {\n",
              "      background-color: #E2EBFA;\n",
              "      box-shadow: 0px 1px 2px rgba(60, 64, 67, 0.3), 0px 1px 3px 1px rgba(60, 64, 67, 0.15);\n",
              "      fill: #174EA6;\n",
              "    }\n",
              "\n",
              "    [theme=dark] .colab-df-convert {\n",
              "      background-color: #3B4455;\n",
              "      fill: #D2E3FC;\n",
              "    }\n",
              "\n",
              "    [theme=dark] .colab-df-convert:hover {\n",
              "      background-color: #434B5C;\n",
              "      box-shadow: 0px 1px 3px 1px rgba(0, 0, 0, 0.15);\n",
              "      filter: drop-shadow(0px 1px 2px rgba(0, 0, 0, 0.3));\n",
              "      fill: #FFFFFF;\n",
              "    }\n",
              "  </style>\n",
              "\n",
              "      <script>\n",
              "        const buttonEl =\n",
              "          document.querySelector('#df-6ffdc748-e7e7-460a-b7ab-ee8ff66d4597 button.colab-df-convert');\n",
              "        buttonEl.style.display =\n",
              "          google.colab.kernel.accessAllowed ? 'block' : 'none';\n",
              "\n",
              "        async function convertToInteractive(key) {\n",
              "          const element = document.querySelector('#df-6ffdc748-e7e7-460a-b7ab-ee8ff66d4597');\n",
              "          const dataTable =\n",
              "            await google.colab.kernel.invokeFunction('convertToInteractive',\n",
              "                                                     [key], {});\n",
              "          if (!dataTable) return;\n",
              "\n",
              "          const docLinkHtml = 'Like what you see? Visit the ' +\n",
              "            '<a target=\"_blank\" href=https://colab.research.google.com/notebooks/data_table.ipynb>data table notebook</a>'\n",
              "            + ' to learn more about interactive tables.';\n",
              "          element.innerHTML = '';\n",
              "          dataTable['output_type'] = 'display_data';\n",
              "          await google.colab.output.renderOutput(dataTable, element);\n",
              "          const docLink = document.createElement('div');\n",
              "          docLink.innerHTML = docLinkHtml;\n",
              "          element.appendChild(docLink);\n",
              "        }\n",
              "      </script>\n",
              "    </div>\n",
              "  </div>\n",
              "  "
            ]
          },
          "metadata": {},
          "execution_count": 94
        }
      ]
    },
    {
      "cell_type": "code",
      "source": [
        "data.shape"
      ],
      "metadata": {
        "colab": {
          "base_uri": "https://localhost:8080/"
        },
        "id": "3VqnPrYHxAne",
        "outputId": "9573d449-eeae-4dd5-b0cc-86b5c7273a1c"
      },
      "execution_count": 95,
      "outputs": [
        {
          "output_type": "execute_result",
          "data": {
            "text/plain": [
              "(18835, 15)"
            ]
          },
          "metadata": {},
          "execution_count": 95
        }
      ]
    },
    {
      "cell_type": "code",
      "source": [
        "len(data['song_name'].unique())"
      ],
      "metadata": {
        "colab": {
          "base_uri": "https://localhost:8080/"
        },
        "id": "dut-ICtcxNoa",
        "outputId": "a59464c7-bb91-4835-8138-5324ea09a8d1"
      },
      "execution_count": 96,
      "outputs": [
        {
          "output_type": "execute_result",
          "data": {
            "text/plain": [
              "13070"
            ]
          },
          "metadata": {},
          "execution_count": 96
        }
      ]
    },
    {
      "cell_type": "markdown",
      "source": [
        "##Checking the missing values"
      ],
      "metadata": {
        "id": "nfNy7lAVumDL"
      }
    },
    {
      "cell_type": "code",
      "source": [
        "data.isnull().sum()"
      ],
      "metadata": {
        "colab": {
          "base_uri": "https://localhost:8080/"
        },
        "id": "3qkiyUVvtD95",
        "outputId": "f9b990b7-0e32-4786-9235-6fd07ffd220d"
      },
      "execution_count": 97,
      "outputs": [
        {
          "output_type": "execute_result",
          "data": {
            "text/plain": [
              "song_name           0\n",
              "song_popularity     0\n",
              "song_duration_ms    0\n",
              "acousticness        0\n",
              "danceability        0\n",
              "energy              0\n",
              "instrumentalness    0\n",
              "key                 0\n",
              "liveness            0\n",
              "loudness            0\n",
              "audio_mode          0\n",
              "speechiness         0\n",
              "tempo               0\n",
              "time_signature      0\n",
              "audio_valence       0\n",
              "dtype: int64"
            ]
          },
          "metadata": {},
          "execution_count": 97
        }
      ]
    },
    {
      "cell_type": "markdown",
      "source": [
        "##Checking the attributes that are categorical"
      ],
      "metadata": {
        "id": "Q-6Hs9GNueKT"
      }
    },
    {
      "cell_type": "code",
      "source": [
        "data.dtypes=='object'"
      ],
      "metadata": {
        "colab": {
          "base_uri": "https://localhost:8080/"
        },
        "id": "jnbbp3DDuRfh",
        "outputId": "70328bea-f916-42af-a585-9b7c14a0c965"
      },
      "execution_count": 98,
      "outputs": [
        {
          "output_type": "execute_result",
          "data": {
            "text/plain": [
              "song_name            True\n",
              "song_popularity     False\n",
              "song_duration_ms    False\n",
              "acousticness        False\n",
              "danceability        False\n",
              "energy              False\n",
              "instrumentalness    False\n",
              "key                 False\n",
              "liveness            False\n",
              "loudness            False\n",
              "audio_mode          False\n",
              "speechiness         False\n",
              "tempo               False\n",
              "time_signature      False\n",
              "audio_valence       False\n",
              "dtype: bool"
            ]
          },
          "metadata": {},
          "execution_count": 98
        }
      ]
    },
    {
      "cell_type": "markdown",
      "source": [
        "##The song names are label encoded"
      ],
      "metadata": {
        "id": "AqyfrUweuFOd"
      }
    },
    {
      "cell_type": "code",
      "source": [
        "le=LabelEncoder()"
      ],
      "metadata": {
        "id": "5smm-ivcuDny"
      },
      "execution_count": 99,
      "outputs": []
    },
    {
      "cell_type": "code",
      "source": [
        "data['song_name']=le.fit_transform(data['song_name'])"
      ],
      "metadata": {
        "id": "1_YJrI2uv37N"
      },
      "execution_count": 100,
      "outputs": []
    },
    {
      "cell_type": "code",
      "source": [
        "data.head()"
      ],
      "metadata": {
        "colab": {
          "base_uri": "https://localhost:8080/",
          "height": 270
        },
        "id": "MMAAIQVnwJeT",
        "outputId": "1d3e32ce-9c61-406c-cc7f-6abc94fcae10"
      },
      "execution_count": 101,
      "outputs": [
        {
          "output_type": "execute_result",
          "data": {
            "text/plain": [
              "   song_name  song_popularity  song_duration_ms  acousticness  danceability  \\\n",
              "0       1561               73            262333      0.005520         0.496   \n",
              "1       5541               66            216933      0.010300         0.542   \n",
              "2       9638               76            231733      0.008170         0.737   \n",
              "3       1760               74            216933      0.026400         0.451   \n",
              "4       4988               56            223826      0.000954         0.447   \n",
              "\n",
              "   energy  instrumentalness  key  liveness  loudness  audio_mode  speechiness  \\\n",
              "0   0.682          0.000029    8    0.0589    -4.095           1       0.0294   \n",
              "1   0.853          0.000000    3    0.1080    -6.407           0       0.0498   \n",
              "2   0.463          0.447000    0    0.2550    -7.828           1       0.0792   \n",
              "3   0.970          0.003550    0    0.1020    -4.938           1       0.1070   \n",
              "4   0.766          0.000000   10    0.1130    -5.065           1       0.0313   \n",
              "\n",
              "     tempo  time_signature  audio_valence  \n",
              "0  167.060               4          0.474  \n",
              "1  105.256               4          0.370  \n",
              "2  123.881               4          0.324  \n",
              "3  122.444               4          0.198  \n",
              "4  172.011               4          0.574  "
            ],
            "text/html": [
              "\n",
              "  <div id=\"df-3accd8dc-e5bd-48e1-bae6-b76b5ab1f2b6\">\n",
              "    <div class=\"colab-df-container\">\n",
              "      <div>\n",
              "<style scoped>\n",
              "    .dataframe tbody tr th:only-of-type {\n",
              "        vertical-align: middle;\n",
              "    }\n",
              "\n",
              "    .dataframe tbody tr th {\n",
              "        vertical-align: top;\n",
              "    }\n",
              "\n",
              "    .dataframe thead th {\n",
              "        text-align: right;\n",
              "    }\n",
              "</style>\n",
              "<table border=\"1\" class=\"dataframe\">\n",
              "  <thead>\n",
              "    <tr style=\"text-align: right;\">\n",
              "      <th></th>\n",
              "      <th>song_name</th>\n",
              "      <th>song_popularity</th>\n",
              "      <th>song_duration_ms</th>\n",
              "      <th>acousticness</th>\n",
              "      <th>danceability</th>\n",
              "      <th>energy</th>\n",
              "      <th>instrumentalness</th>\n",
              "      <th>key</th>\n",
              "      <th>liveness</th>\n",
              "      <th>loudness</th>\n",
              "      <th>audio_mode</th>\n",
              "      <th>speechiness</th>\n",
              "      <th>tempo</th>\n",
              "      <th>time_signature</th>\n",
              "      <th>audio_valence</th>\n",
              "    </tr>\n",
              "  </thead>\n",
              "  <tbody>\n",
              "    <tr>\n",
              "      <th>0</th>\n",
              "      <td>1561</td>\n",
              "      <td>73</td>\n",
              "      <td>262333</td>\n",
              "      <td>0.005520</td>\n",
              "      <td>0.496</td>\n",
              "      <td>0.682</td>\n",
              "      <td>0.000029</td>\n",
              "      <td>8</td>\n",
              "      <td>0.0589</td>\n",
              "      <td>-4.095</td>\n",
              "      <td>1</td>\n",
              "      <td>0.0294</td>\n",
              "      <td>167.060</td>\n",
              "      <td>4</td>\n",
              "      <td>0.474</td>\n",
              "    </tr>\n",
              "    <tr>\n",
              "      <th>1</th>\n",
              "      <td>5541</td>\n",
              "      <td>66</td>\n",
              "      <td>216933</td>\n",
              "      <td>0.010300</td>\n",
              "      <td>0.542</td>\n",
              "      <td>0.853</td>\n",
              "      <td>0.000000</td>\n",
              "      <td>3</td>\n",
              "      <td>0.1080</td>\n",
              "      <td>-6.407</td>\n",
              "      <td>0</td>\n",
              "      <td>0.0498</td>\n",
              "      <td>105.256</td>\n",
              "      <td>4</td>\n",
              "      <td>0.370</td>\n",
              "    </tr>\n",
              "    <tr>\n",
              "      <th>2</th>\n",
              "      <td>9638</td>\n",
              "      <td>76</td>\n",
              "      <td>231733</td>\n",
              "      <td>0.008170</td>\n",
              "      <td>0.737</td>\n",
              "      <td>0.463</td>\n",
              "      <td>0.447000</td>\n",
              "      <td>0</td>\n",
              "      <td>0.2550</td>\n",
              "      <td>-7.828</td>\n",
              "      <td>1</td>\n",
              "      <td>0.0792</td>\n",
              "      <td>123.881</td>\n",
              "      <td>4</td>\n",
              "      <td>0.324</td>\n",
              "    </tr>\n",
              "    <tr>\n",
              "      <th>3</th>\n",
              "      <td>1760</td>\n",
              "      <td>74</td>\n",
              "      <td>216933</td>\n",
              "      <td>0.026400</td>\n",
              "      <td>0.451</td>\n",
              "      <td>0.970</td>\n",
              "      <td>0.003550</td>\n",
              "      <td>0</td>\n",
              "      <td>0.1020</td>\n",
              "      <td>-4.938</td>\n",
              "      <td>1</td>\n",
              "      <td>0.1070</td>\n",
              "      <td>122.444</td>\n",
              "      <td>4</td>\n",
              "      <td>0.198</td>\n",
              "    </tr>\n",
              "    <tr>\n",
              "      <th>4</th>\n",
              "      <td>4988</td>\n",
              "      <td>56</td>\n",
              "      <td>223826</td>\n",
              "      <td>0.000954</td>\n",
              "      <td>0.447</td>\n",
              "      <td>0.766</td>\n",
              "      <td>0.000000</td>\n",
              "      <td>10</td>\n",
              "      <td>0.1130</td>\n",
              "      <td>-5.065</td>\n",
              "      <td>1</td>\n",
              "      <td>0.0313</td>\n",
              "      <td>172.011</td>\n",
              "      <td>4</td>\n",
              "      <td>0.574</td>\n",
              "    </tr>\n",
              "  </tbody>\n",
              "</table>\n",
              "</div>\n",
              "      <button class=\"colab-df-convert\" onclick=\"convertToInteractive('df-3accd8dc-e5bd-48e1-bae6-b76b5ab1f2b6')\"\n",
              "              title=\"Convert this dataframe to an interactive table.\"\n",
              "              style=\"display:none;\">\n",
              "        \n",
              "  <svg xmlns=\"http://www.w3.org/2000/svg\" height=\"24px\"viewBox=\"0 0 24 24\"\n",
              "       width=\"24px\">\n",
              "    <path d=\"M0 0h24v24H0V0z\" fill=\"none\"/>\n",
              "    <path d=\"M18.56 5.44l.94 2.06.94-2.06 2.06-.94-2.06-.94-.94-2.06-.94 2.06-2.06.94zm-11 1L8.5 8.5l.94-2.06 2.06-.94-2.06-.94L8.5 2.5l-.94 2.06-2.06.94zm10 10l.94 2.06.94-2.06 2.06-.94-2.06-.94-.94-2.06-.94 2.06-2.06.94z\"/><path d=\"M17.41 7.96l-1.37-1.37c-.4-.4-.92-.59-1.43-.59-.52 0-1.04.2-1.43.59L10.3 9.45l-7.72 7.72c-.78.78-.78 2.05 0 2.83L4 21.41c.39.39.9.59 1.41.59.51 0 1.02-.2 1.41-.59l7.78-7.78 2.81-2.81c.8-.78.8-2.07 0-2.86zM5.41 20L4 18.59l7.72-7.72 1.47 1.35L5.41 20z\"/>\n",
              "  </svg>\n",
              "      </button>\n",
              "      \n",
              "  <style>\n",
              "    .colab-df-container {\n",
              "      display:flex;\n",
              "      flex-wrap:wrap;\n",
              "      gap: 12px;\n",
              "    }\n",
              "\n",
              "    .colab-df-convert {\n",
              "      background-color: #E8F0FE;\n",
              "      border: none;\n",
              "      border-radius: 50%;\n",
              "      cursor: pointer;\n",
              "      display: none;\n",
              "      fill: #1967D2;\n",
              "      height: 32px;\n",
              "      padding: 0 0 0 0;\n",
              "      width: 32px;\n",
              "    }\n",
              "\n",
              "    .colab-df-convert:hover {\n",
              "      background-color: #E2EBFA;\n",
              "      box-shadow: 0px 1px 2px rgba(60, 64, 67, 0.3), 0px 1px 3px 1px rgba(60, 64, 67, 0.15);\n",
              "      fill: #174EA6;\n",
              "    }\n",
              "\n",
              "    [theme=dark] .colab-df-convert {\n",
              "      background-color: #3B4455;\n",
              "      fill: #D2E3FC;\n",
              "    }\n",
              "\n",
              "    [theme=dark] .colab-df-convert:hover {\n",
              "      background-color: #434B5C;\n",
              "      box-shadow: 0px 1px 3px 1px rgba(0, 0, 0, 0.15);\n",
              "      filter: drop-shadow(0px 1px 2px rgba(0, 0, 0, 0.3));\n",
              "      fill: #FFFFFF;\n",
              "    }\n",
              "  </style>\n",
              "\n",
              "      <script>\n",
              "        const buttonEl =\n",
              "          document.querySelector('#df-3accd8dc-e5bd-48e1-bae6-b76b5ab1f2b6 button.colab-df-convert');\n",
              "        buttonEl.style.display =\n",
              "          google.colab.kernel.accessAllowed ? 'block' : 'none';\n",
              "\n",
              "        async function convertToInteractive(key) {\n",
              "          const element = document.querySelector('#df-3accd8dc-e5bd-48e1-bae6-b76b5ab1f2b6');\n",
              "          const dataTable =\n",
              "            await google.colab.kernel.invokeFunction('convertToInteractive',\n",
              "                                                     [key], {});\n",
              "          if (!dataTable) return;\n",
              "\n",
              "          const docLinkHtml = 'Like what you see? Visit the ' +\n",
              "            '<a target=\"_blank\" href=https://colab.research.google.com/notebooks/data_table.ipynb>data table notebook</a>'\n",
              "            + ' to learn more about interactive tables.';\n",
              "          element.innerHTML = '';\n",
              "          dataTable['output_type'] = 'display_data';\n",
              "          await google.colab.output.renderOutput(dataTable, element);\n",
              "          const docLink = document.createElement('div');\n",
              "          docLink.innerHTML = docLinkHtml;\n",
              "          element.appendChild(docLink);\n",
              "        }\n",
              "      </script>\n",
              "    </div>\n",
              "  </div>\n",
              "  "
            ]
          },
          "metadata": {},
          "execution_count": 101
        }
      ]
    },
    {
      "cell_type": "code",
      "source": [
        "\n",
        "len(data['song_name'].unique())"
      ],
      "metadata": {
        "colab": {
          "base_uri": "https://localhost:8080/"
        },
        "id": "j3mruU4UwrSs",
        "outputId": "0b774259-da97-4ff7-ec46-1d2319e2f1c9"
      },
      "execution_count": 102,
      "outputs": [
        {
          "output_type": "execute_result",
          "data": {
            "text/plain": [
              "13070"
            ]
          },
          "metadata": {},
          "execution_count": 102
        }
      ]
    },
    {
      "cell_type": "markdown",
      "source": [
        "##MinMaxScaling is applied"
      ],
      "metadata": {
        "id": "HcDG0xpgyr8p"
      }
    },
    {
      "cell_type": "code",
      "source": [
        "mx=MinMaxScaler()"
      ],
      "metadata": {
        "id": "BvkLNr9-wzGU"
      },
      "execution_count": 103,
      "outputs": []
    },
    {
      "cell_type": "code",
      "source": [
        "data_norm=pd.DataFrame(mx.fit_transform(data))"
      ],
      "metadata": {
        "id": "aD29qHhxxtJb"
      },
      "execution_count": 104,
      "outputs": []
    },
    {
      "cell_type": "code",
      "source": [
        "data_norm.columns=data.columns"
      ],
      "metadata": {
        "id": "4vBshc-hxwY2"
      },
      "execution_count": 105,
      "outputs": []
    },
    {
      "cell_type": "code",
      "source": [
        "\n",
        "data_norm.head()"
      ],
      "metadata": {
        "colab": {
          "base_uri": "https://localhost:8080/",
          "height": 270
        },
        "id": "MV9DRjmWxypz",
        "outputId": "2fccc525-cc7b-40df-814d-6d0368cc00ba"
      },
      "execution_count": 106,
      "outputs": [
        {
          "output_type": "execute_result",
          "data": {
            "text/plain": [
              "   song_name  song_popularity  song_duration_ms  acousticness  danceability  \\\n",
              "0   0.119443             0.73          0.140059      0.005541      0.502533   \n",
              "1   0.423980             0.66          0.114658      0.010340      0.549139   \n",
              "2   0.737470             0.76          0.122938      0.008202      0.746707   \n",
              "3   0.134670             0.74          0.114658      0.026505      0.456940   \n",
              "4   0.381667             0.56          0.118514      0.000957      0.452888   \n",
              "\n",
              "     energy  instrumentalness       key  liveness  loudness  audio_mode  \\\n",
              "0  0.682342          0.000029  0.727273  0.049226  0.859242         1.0   \n",
              "1  0.853697          0.000000  0.272727  0.099580  0.801948         0.0   \n",
              "2  0.462888          0.448345  0.000000  0.250333  0.766734         1.0   \n",
              "3  0.970940          0.003561  0.000000  0.093426  0.838352         1.0   \n",
              "4  0.766517          0.000000  0.909091  0.104707  0.835204         1.0   \n",
              "\n",
              "   speechiness     tempo  time_signature  audio_valence  \n",
              "0     0.031243  0.689425             0.8       0.481707  \n",
              "1     0.052922  0.434371             0.8       0.376016  \n",
              "2     0.084166  0.511233             0.8       0.329268  \n",
              "3     0.113709  0.505303             0.8       0.201220  \n",
              "4     0.033262  0.709856             0.8       0.583333  "
            ],
            "text/html": [
              "\n",
              "  <div id=\"df-d65d43e2-4fe6-4411-8b95-abc25eb9d7b7\">\n",
              "    <div class=\"colab-df-container\">\n",
              "      <div>\n",
              "<style scoped>\n",
              "    .dataframe tbody tr th:only-of-type {\n",
              "        vertical-align: middle;\n",
              "    }\n",
              "\n",
              "    .dataframe tbody tr th {\n",
              "        vertical-align: top;\n",
              "    }\n",
              "\n",
              "    .dataframe thead th {\n",
              "        text-align: right;\n",
              "    }\n",
              "</style>\n",
              "<table border=\"1\" class=\"dataframe\">\n",
              "  <thead>\n",
              "    <tr style=\"text-align: right;\">\n",
              "      <th></th>\n",
              "      <th>song_name</th>\n",
              "      <th>song_popularity</th>\n",
              "      <th>song_duration_ms</th>\n",
              "      <th>acousticness</th>\n",
              "      <th>danceability</th>\n",
              "      <th>energy</th>\n",
              "      <th>instrumentalness</th>\n",
              "      <th>key</th>\n",
              "      <th>liveness</th>\n",
              "      <th>loudness</th>\n",
              "      <th>audio_mode</th>\n",
              "      <th>speechiness</th>\n",
              "      <th>tempo</th>\n",
              "      <th>time_signature</th>\n",
              "      <th>audio_valence</th>\n",
              "    </tr>\n",
              "  </thead>\n",
              "  <tbody>\n",
              "    <tr>\n",
              "      <th>0</th>\n",
              "      <td>0.119443</td>\n",
              "      <td>0.73</td>\n",
              "      <td>0.140059</td>\n",
              "      <td>0.005541</td>\n",
              "      <td>0.502533</td>\n",
              "      <td>0.682342</td>\n",
              "      <td>0.000029</td>\n",
              "      <td>0.727273</td>\n",
              "      <td>0.049226</td>\n",
              "      <td>0.859242</td>\n",
              "      <td>1.0</td>\n",
              "      <td>0.031243</td>\n",
              "      <td>0.689425</td>\n",
              "      <td>0.8</td>\n",
              "      <td>0.481707</td>\n",
              "    </tr>\n",
              "    <tr>\n",
              "      <th>1</th>\n",
              "      <td>0.423980</td>\n",
              "      <td>0.66</td>\n",
              "      <td>0.114658</td>\n",
              "      <td>0.010340</td>\n",
              "      <td>0.549139</td>\n",
              "      <td>0.853697</td>\n",
              "      <td>0.000000</td>\n",
              "      <td>0.272727</td>\n",
              "      <td>0.099580</td>\n",
              "      <td>0.801948</td>\n",
              "      <td>0.0</td>\n",
              "      <td>0.052922</td>\n",
              "      <td>0.434371</td>\n",
              "      <td>0.8</td>\n",
              "      <td>0.376016</td>\n",
              "    </tr>\n",
              "    <tr>\n",
              "      <th>2</th>\n",
              "      <td>0.737470</td>\n",
              "      <td>0.76</td>\n",
              "      <td>0.122938</td>\n",
              "      <td>0.008202</td>\n",
              "      <td>0.746707</td>\n",
              "      <td>0.462888</td>\n",
              "      <td>0.448345</td>\n",
              "      <td>0.000000</td>\n",
              "      <td>0.250333</td>\n",
              "      <td>0.766734</td>\n",
              "      <td>1.0</td>\n",
              "      <td>0.084166</td>\n",
              "      <td>0.511233</td>\n",
              "      <td>0.8</td>\n",
              "      <td>0.329268</td>\n",
              "    </tr>\n",
              "    <tr>\n",
              "      <th>3</th>\n",
              "      <td>0.134670</td>\n",
              "      <td>0.74</td>\n",
              "      <td>0.114658</td>\n",
              "      <td>0.026505</td>\n",
              "      <td>0.456940</td>\n",
              "      <td>0.970940</td>\n",
              "      <td>0.003561</td>\n",
              "      <td>0.000000</td>\n",
              "      <td>0.093426</td>\n",
              "      <td>0.838352</td>\n",
              "      <td>1.0</td>\n",
              "      <td>0.113709</td>\n",
              "      <td>0.505303</td>\n",
              "      <td>0.8</td>\n",
              "      <td>0.201220</td>\n",
              "    </tr>\n",
              "    <tr>\n",
              "      <th>4</th>\n",
              "      <td>0.381667</td>\n",
              "      <td>0.56</td>\n",
              "      <td>0.118514</td>\n",
              "      <td>0.000957</td>\n",
              "      <td>0.452888</td>\n",
              "      <td>0.766517</td>\n",
              "      <td>0.000000</td>\n",
              "      <td>0.909091</td>\n",
              "      <td>0.104707</td>\n",
              "      <td>0.835204</td>\n",
              "      <td>1.0</td>\n",
              "      <td>0.033262</td>\n",
              "      <td>0.709856</td>\n",
              "      <td>0.8</td>\n",
              "      <td>0.583333</td>\n",
              "    </tr>\n",
              "  </tbody>\n",
              "</table>\n",
              "</div>\n",
              "      <button class=\"colab-df-convert\" onclick=\"convertToInteractive('df-d65d43e2-4fe6-4411-8b95-abc25eb9d7b7')\"\n",
              "              title=\"Convert this dataframe to an interactive table.\"\n",
              "              style=\"display:none;\">\n",
              "        \n",
              "  <svg xmlns=\"http://www.w3.org/2000/svg\" height=\"24px\"viewBox=\"0 0 24 24\"\n",
              "       width=\"24px\">\n",
              "    <path d=\"M0 0h24v24H0V0z\" fill=\"none\"/>\n",
              "    <path d=\"M18.56 5.44l.94 2.06.94-2.06 2.06-.94-2.06-.94-.94-2.06-.94 2.06-2.06.94zm-11 1L8.5 8.5l.94-2.06 2.06-.94-2.06-.94L8.5 2.5l-.94 2.06-2.06.94zm10 10l.94 2.06.94-2.06 2.06-.94-2.06-.94-.94-2.06-.94 2.06-2.06.94z\"/><path d=\"M17.41 7.96l-1.37-1.37c-.4-.4-.92-.59-1.43-.59-.52 0-1.04.2-1.43.59L10.3 9.45l-7.72 7.72c-.78.78-.78 2.05 0 2.83L4 21.41c.39.39.9.59 1.41.59.51 0 1.02-.2 1.41-.59l7.78-7.78 2.81-2.81c.8-.78.8-2.07 0-2.86zM5.41 20L4 18.59l7.72-7.72 1.47 1.35L5.41 20z\"/>\n",
              "  </svg>\n",
              "      </button>\n",
              "      \n",
              "  <style>\n",
              "    .colab-df-container {\n",
              "      display:flex;\n",
              "      flex-wrap:wrap;\n",
              "      gap: 12px;\n",
              "    }\n",
              "\n",
              "    .colab-df-convert {\n",
              "      background-color: #E8F0FE;\n",
              "      border: none;\n",
              "      border-radius: 50%;\n",
              "      cursor: pointer;\n",
              "      display: none;\n",
              "      fill: #1967D2;\n",
              "      height: 32px;\n",
              "      padding: 0 0 0 0;\n",
              "      width: 32px;\n",
              "    }\n",
              "\n",
              "    .colab-df-convert:hover {\n",
              "      background-color: #E2EBFA;\n",
              "      box-shadow: 0px 1px 2px rgba(60, 64, 67, 0.3), 0px 1px 3px 1px rgba(60, 64, 67, 0.15);\n",
              "      fill: #174EA6;\n",
              "    }\n",
              "\n",
              "    [theme=dark] .colab-df-convert {\n",
              "      background-color: #3B4455;\n",
              "      fill: #D2E3FC;\n",
              "    }\n",
              "\n",
              "    [theme=dark] .colab-df-convert:hover {\n",
              "      background-color: #434B5C;\n",
              "      box-shadow: 0px 1px 3px 1px rgba(0, 0, 0, 0.15);\n",
              "      filter: drop-shadow(0px 1px 2px rgba(0, 0, 0, 0.3));\n",
              "      fill: #FFFFFF;\n",
              "    }\n",
              "  </style>\n",
              "\n",
              "      <script>\n",
              "        const buttonEl =\n",
              "          document.querySelector('#df-d65d43e2-4fe6-4411-8b95-abc25eb9d7b7 button.colab-df-convert');\n",
              "        buttonEl.style.display =\n",
              "          google.colab.kernel.accessAllowed ? 'block' : 'none';\n",
              "\n",
              "        async function convertToInteractive(key) {\n",
              "          const element = document.querySelector('#df-d65d43e2-4fe6-4411-8b95-abc25eb9d7b7');\n",
              "          const dataTable =\n",
              "            await google.colab.kernel.invokeFunction('convertToInteractive',\n",
              "                                                     [key], {});\n",
              "          if (!dataTable) return;\n",
              "\n",
              "          const docLinkHtml = 'Like what you see? Visit the ' +\n",
              "            '<a target=\"_blank\" href=https://colab.research.google.com/notebooks/data_table.ipynb>data table notebook</a>'\n",
              "            + ' to learn more about interactive tables.';\n",
              "          element.innerHTML = '';\n",
              "          dataTable['output_type'] = 'display_data';\n",
              "          await google.colab.output.renderOutput(dataTable, element);\n",
              "          const docLink = document.createElement('div');\n",
              "          docLink.innerHTML = docLinkHtml;\n",
              "          element.appendChild(docLink);\n",
              "        }\n",
              "      </script>\n",
              "    </div>\n",
              "  </div>\n",
              "  "
            ]
          },
          "metadata": {},
          "execution_count": 106
        }
      ]
    },
    {
      "cell_type": "markdown",
      "source": [
        "##The correlation is checked"
      ],
      "metadata": {
        "id": "Gyg_p-qPyxAS"
      }
    },
    {
      "cell_type": "code",
      "source": [
        "\n",
        "data_norm.corr()"
      ],
      "metadata": {
        "colab": {
          "base_uri": "https://localhost:8080/",
          "height": 583
        },
        "id": "Tq-JsP9HzlrM",
        "outputId": "c921c295-5878-45f3-c88b-6b3e77bfa535"
      },
      "execution_count": 107,
      "outputs": [
        {
          "output_type": "execute_result",
          "data": {
            "text/plain": [
              "                  song_name  song_popularity  song_duration_ms  acousticness  \\\n",
              "song_name          1.000000         0.009364         -0.013220      0.037685   \n",
              "song_popularity    0.009364         1.000000         -0.018899     -0.065181   \n",
              "song_duration_ms  -0.013220        -0.018899          1.000000     -0.097882   \n",
              "acousticness       0.037685        -0.065181         -0.097882      1.000000   \n",
              "danceability      -0.009806         0.104290         -0.104985     -0.182500   \n",
              "energy            -0.036023         0.001365          0.092688     -0.662639   \n",
              "instrumentalness   0.006865        -0.130907         -0.015188      0.173098   \n",
              "key               -0.000781        -0.013160         -0.004615     -0.002025   \n",
              "liveness          -0.009853        -0.038937          0.016086     -0.082537   \n",
              "loudness          -0.021601         0.099442          0.016469     -0.557744   \n",
              "audio_mode         0.006987        -0.004969         -0.026328      0.064100   \n",
              "speechiness       -0.010301         0.021479         -0.083447     -0.093574   \n",
              "tempo             -0.001841        -0.022672          0.012791     -0.136421   \n",
              "time_signature    -0.011529         0.034983          0.000264     -0.157177   \n",
              "audio_valence     -0.010750        -0.052895         -0.063421     -0.121670   \n",
              "\n",
              "                  danceability    energy  instrumentalness       key  \\\n",
              "song_name            -0.009806 -0.036023          0.006865 -0.000781   \n",
              "song_popularity       0.104290  0.001365         -0.130907 -0.013160   \n",
              "song_duration_ms     -0.104985  0.092688         -0.015188 -0.004615   \n",
              "acousticness         -0.182500 -0.662639          0.173098 -0.002025   \n",
              "danceability          1.000000  0.044373         -0.130483  0.007723   \n",
              "energy                0.044373  1.000000         -0.205914  0.020416   \n",
              "instrumentalness     -0.130483 -0.205914          1.000000 -0.009463   \n",
              "key                   0.007723  0.020416         -0.009463  1.000000   \n",
              "liveness             -0.090694  0.167143         -0.032887 -0.008193   \n",
              "loudness              0.177639  0.755516         -0.390248  0.010452   \n",
              "audio_mode           -0.106539 -0.051605         -0.014983 -0.169848   \n",
              "speechiness           0.213728  0.062053         -0.081138  0.033639   \n",
              "tempo                -0.121286  0.162448         -0.036934  0.003239   \n",
              "time_signature        0.136391  0.146265         -0.069181 -0.008282   \n",
              "audio_valence         0.332014  0.316742         -0.178570  0.025356   \n",
              "\n",
              "                  liveness  loudness  audio_mode  speechiness     tempo  \\\n",
              "song_name        -0.009853 -0.021601    0.006987    -0.010301 -0.001841   \n",
              "song_popularity  -0.038937  0.099442   -0.004969     0.021479 -0.022672   \n",
              "song_duration_ms  0.016086  0.016469   -0.026328    -0.083447  0.012791   \n",
              "acousticness     -0.082537 -0.557744    0.064100    -0.093574 -0.136421   \n",
              "danceability     -0.090694  0.177639   -0.106539     0.213728 -0.121286   \n",
              "energy            0.167143  0.755516   -0.051605     0.062053  0.162448   \n",
              "instrumentalness -0.032887 -0.390248   -0.014983    -0.081138 -0.036934   \n",
              "key              -0.008193  0.010452   -0.169848     0.033639  0.003239   \n",
              "liveness          1.000000  0.102450   -0.001035     0.090845  0.031876   \n",
              "loudness          0.102450  1.000000   -0.058506     0.078164  0.129938   \n",
              "audio_mode       -0.001035 -0.058506    1.000000    -0.111627  0.020448   \n",
              "speechiness       0.090845  0.078164   -0.111627     1.000000  0.071685   \n",
              "tempo             0.031876  0.129938    0.020448     0.071685  1.000000   \n",
              "time_signature    0.013289  0.119241   -0.024042     0.057162  0.003978   \n",
              "audio_valence     0.013789  0.199696   -0.004558     0.011046  0.037667   \n",
              "\n",
              "                  time_signature  audio_valence  \n",
              "song_name              -0.011529      -0.010750  \n",
              "song_popularity         0.034983      -0.052895  \n",
              "song_duration_ms        0.000264      -0.063421  \n",
              "acousticness           -0.157177      -0.121670  \n",
              "danceability            0.136391       0.332014  \n",
              "energy                  0.146265       0.316742  \n",
              "instrumentalness       -0.069181      -0.178570  \n",
              "key                    -0.008282       0.025356  \n",
              "liveness                0.013289       0.013789  \n",
              "loudness                0.119241       0.199696  \n",
              "audio_mode             -0.024042      -0.004558  \n",
              "speechiness             0.057162       0.011046  \n",
              "tempo                   0.003978       0.037667  \n",
              "time_signature          1.000000       0.094670  \n",
              "audio_valence           0.094670       1.000000  "
            ],
            "text/html": [
              "\n",
              "  <div id=\"df-a2a117de-5b70-41fc-a716-1464e98bad20\">\n",
              "    <div class=\"colab-df-container\">\n",
              "      <div>\n",
              "<style scoped>\n",
              "    .dataframe tbody tr th:only-of-type {\n",
              "        vertical-align: middle;\n",
              "    }\n",
              "\n",
              "    .dataframe tbody tr th {\n",
              "        vertical-align: top;\n",
              "    }\n",
              "\n",
              "    .dataframe thead th {\n",
              "        text-align: right;\n",
              "    }\n",
              "</style>\n",
              "<table border=\"1\" class=\"dataframe\">\n",
              "  <thead>\n",
              "    <tr style=\"text-align: right;\">\n",
              "      <th></th>\n",
              "      <th>song_name</th>\n",
              "      <th>song_popularity</th>\n",
              "      <th>song_duration_ms</th>\n",
              "      <th>acousticness</th>\n",
              "      <th>danceability</th>\n",
              "      <th>energy</th>\n",
              "      <th>instrumentalness</th>\n",
              "      <th>key</th>\n",
              "      <th>liveness</th>\n",
              "      <th>loudness</th>\n",
              "      <th>audio_mode</th>\n",
              "      <th>speechiness</th>\n",
              "      <th>tempo</th>\n",
              "      <th>time_signature</th>\n",
              "      <th>audio_valence</th>\n",
              "    </tr>\n",
              "  </thead>\n",
              "  <tbody>\n",
              "    <tr>\n",
              "      <th>song_name</th>\n",
              "      <td>1.000000</td>\n",
              "      <td>0.009364</td>\n",
              "      <td>-0.013220</td>\n",
              "      <td>0.037685</td>\n",
              "      <td>-0.009806</td>\n",
              "      <td>-0.036023</td>\n",
              "      <td>0.006865</td>\n",
              "      <td>-0.000781</td>\n",
              "      <td>-0.009853</td>\n",
              "      <td>-0.021601</td>\n",
              "      <td>0.006987</td>\n",
              "      <td>-0.010301</td>\n",
              "      <td>-0.001841</td>\n",
              "      <td>-0.011529</td>\n",
              "      <td>-0.010750</td>\n",
              "    </tr>\n",
              "    <tr>\n",
              "      <th>song_popularity</th>\n",
              "      <td>0.009364</td>\n",
              "      <td>1.000000</td>\n",
              "      <td>-0.018899</td>\n",
              "      <td>-0.065181</td>\n",
              "      <td>0.104290</td>\n",
              "      <td>0.001365</td>\n",
              "      <td>-0.130907</td>\n",
              "      <td>-0.013160</td>\n",
              "      <td>-0.038937</td>\n",
              "      <td>0.099442</td>\n",
              "      <td>-0.004969</td>\n",
              "      <td>0.021479</td>\n",
              "      <td>-0.022672</td>\n",
              "      <td>0.034983</td>\n",
              "      <td>-0.052895</td>\n",
              "    </tr>\n",
              "    <tr>\n",
              "      <th>song_duration_ms</th>\n",
              "      <td>-0.013220</td>\n",
              "      <td>-0.018899</td>\n",
              "      <td>1.000000</td>\n",
              "      <td>-0.097882</td>\n",
              "      <td>-0.104985</td>\n",
              "      <td>0.092688</td>\n",
              "      <td>-0.015188</td>\n",
              "      <td>-0.004615</td>\n",
              "      <td>0.016086</td>\n",
              "      <td>0.016469</td>\n",
              "      <td>-0.026328</td>\n",
              "      <td>-0.083447</td>\n",
              "      <td>0.012791</td>\n",
              "      <td>0.000264</td>\n",
              "      <td>-0.063421</td>\n",
              "    </tr>\n",
              "    <tr>\n",
              "      <th>acousticness</th>\n",
              "      <td>0.037685</td>\n",
              "      <td>-0.065181</td>\n",
              "      <td>-0.097882</td>\n",
              "      <td>1.000000</td>\n",
              "      <td>-0.182500</td>\n",
              "      <td>-0.662639</td>\n",
              "      <td>0.173098</td>\n",
              "      <td>-0.002025</td>\n",
              "      <td>-0.082537</td>\n",
              "      <td>-0.557744</td>\n",
              "      <td>0.064100</td>\n",
              "      <td>-0.093574</td>\n",
              "      <td>-0.136421</td>\n",
              "      <td>-0.157177</td>\n",
              "      <td>-0.121670</td>\n",
              "    </tr>\n",
              "    <tr>\n",
              "      <th>danceability</th>\n",
              "      <td>-0.009806</td>\n",
              "      <td>0.104290</td>\n",
              "      <td>-0.104985</td>\n",
              "      <td>-0.182500</td>\n",
              "      <td>1.000000</td>\n",
              "      <td>0.044373</td>\n",
              "      <td>-0.130483</td>\n",
              "      <td>0.007723</td>\n",
              "      <td>-0.090694</td>\n",
              "      <td>0.177639</td>\n",
              "      <td>-0.106539</td>\n",
              "      <td>0.213728</td>\n",
              "      <td>-0.121286</td>\n",
              "      <td>0.136391</td>\n",
              "      <td>0.332014</td>\n",
              "    </tr>\n",
              "    <tr>\n",
              "      <th>energy</th>\n",
              "      <td>-0.036023</td>\n",
              "      <td>0.001365</td>\n",
              "      <td>0.092688</td>\n",
              "      <td>-0.662639</td>\n",
              "      <td>0.044373</td>\n",
              "      <td>1.000000</td>\n",
              "      <td>-0.205914</td>\n",
              "      <td>0.020416</td>\n",
              "      <td>0.167143</td>\n",
              "      <td>0.755516</td>\n",
              "      <td>-0.051605</td>\n",
              "      <td>0.062053</td>\n",
              "      <td>0.162448</td>\n",
              "      <td>0.146265</td>\n",
              "      <td>0.316742</td>\n",
              "    </tr>\n",
              "    <tr>\n",
              "      <th>instrumentalness</th>\n",
              "      <td>0.006865</td>\n",
              "      <td>-0.130907</td>\n",
              "      <td>-0.015188</td>\n",
              "      <td>0.173098</td>\n",
              "      <td>-0.130483</td>\n",
              "      <td>-0.205914</td>\n",
              "      <td>1.000000</td>\n",
              "      <td>-0.009463</td>\n",
              "      <td>-0.032887</td>\n",
              "      <td>-0.390248</td>\n",
              "      <td>-0.014983</td>\n",
              "      <td>-0.081138</td>\n",
              "      <td>-0.036934</td>\n",
              "      <td>-0.069181</td>\n",
              "      <td>-0.178570</td>\n",
              "    </tr>\n",
              "    <tr>\n",
              "      <th>key</th>\n",
              "      <td>-0.000781</td>\n",
              "      <td>-0.013160</td>\n",
              "      <td>-0.004615</td>\n",
              "      <td>-0.002025</td>\n",
              "      <td>0.007723</td>\n",
              "      <td>0.020416</td>\n",
              "      <td>-0.009463</td>\n",
              "      <td>1.000000</td>\n",
              "      <td>-0.008193</td>\n",
              "      <td>0.010452</td>\n",
              "      <td>-0.169848</td>\n",
              "      <td>0.033639</td>\n",
              "      <td>0.003239</td>\n",
              "      <td>-0.008282</td>\n",
              "      <td>0.025356</td>\n",
              "    </tr>\n",
              "    <tr>\n",
              "      <th>liveness</th>\n",
              "      <td>-0.009853</td>\n",
              "      <td>-0.038937</td>\n",
              "      <td>0.016086</td>\n",
              "      <td>-0.082537</td>\n",
              "      <td>-0.090694</td>\n",
              "      <td>0.167143</td>\n",
              "      <td>-0.032887</td>\n",
              "      <td>-0.008193</td>\n",
              "      <td>1.000000</td>\n",
              "      <td>0.102450</td>\n",
              "      <td>-0.001035</td>\n",
              "      <td>0.090845</td>\n",
              "      <td>0.031876</td>\n",
              "      <td>0.013289</td>\n",
              "      <td>0.013789</td>\n",
              "    </tr>\n",
              "    <tr>\n",
              "      <th>loudness</th>\n",
              "      <td>-0.021601</td>\n",
              "      <td>0.099442</td>\n",
              "      <td>0.016469</td>\n",
              "      <td>-0.557744</td>\n",
              "      <td>0.177639</td>\n",
              "      <td>0.755516</td>\n",
              "      <td>-0.390248</td>\n",
              "      <td>0.010452</td>\n",
              "      <td>0.102450</td>\n",
              "      <td>1.000000</td>\n",
              "      <td>-0.058506</td>\n",
              "      <td>0.078164</td>\n",
              "      <td>0.129938</td>\n",
              "      <td>0.119241</td>\n",
              "      <td>0.199696</td>\n",
              "    </tr>\n",
              "    <tr>\n",
              "      <th>audio_mode</th>\n",
              "      <td>0.006987</td>\n",
              "      <td>-0.004969</td>\n",
              "      <td>-0.026328</td>\n",
              "      <td>0.064100</td>\n",
              "      <td>-0.106539</td>\n",
              "      <td>-0.051605</td>\n",
              "      <td>-0.014983</td>\n",
              "      <td>-0.169848</td>\n",
              "      <td>-0.001035</td>\n",
              "      <td>-0.058506</td>\n",
              "      <td>1.000000</td>\n",
              "      <td>-0.111627</td>\n",
              "      <td>0.020448</td>\n",
              "      <td>-0.024042</td>\n",
              "      <td>-0.004558</td>\n",
              "    </tr>\n",
              "    <tr>\n",
              "      <th>speechiness</th>\n",
              "      <td>-0.010301</td>\n",
              "      <td>0.021479</td>\n",
              "      <td>-0.083447</td>\n",
              "      <td>-0.093574</td>\n",
              "      <td>0.213728</td>\n",
              "      <td>0.062053</td>\n",
              "      <td>-0.081138</td>\n",
              "      <td>0.033639</td>\n",
              "      <td>0.090845</td>\n",
              "      <td>0.078164</td>\n",
              "      <td>-0.111627</td>\n",
              "      <td>1.000000</td>\n",
              "      <td>0.071685</td>\n",
              "      <td>0.057162</td>\n",
              "      <td>0.011046</td>\n",
              "    </tr>\n",
              "    <tr>\n",
              "      <th>tempo</th>\n",
              "      <td>-0.001841</td>\n",
              "      <td>-0.022672</td>\n",
              "      <td>0.012791</td>\n",
              "      <td>-0.136421</td>\n",
              "      <td>-0.121286</td>\n",
              "      <td>0.162448</td>\n",
              "      <td>-0.036934</td>\n",
              "      <td>0.003239</td>\n",
              "      <td>0.031876</td>\n",
              "      <td>0.129938</td>\n",
              "      <td>0.020448</td>\n",
              "      <td>0.071685</td>\n",
              "      <td>1.000000</td>\n",
              "      <td>0.003978</td>\n",
              "      <td>0.037667</td>\n",
              "    </tr>\n",
              "    <tr>\n",
              "      <th>time_signature</th>\n",
              "      <td>-0.011529</td>\n",
              "      <td>0.034983</td>\n",
              "      <td>0.000264</td>\n",
              "      <td>-0.157177</td>\n",
              "      <td>0.136391</td>\n",
              "      <td>0.146265</td>\n",
              "      <td>-0.069181</td>\n",
              "      <td>-0.008282</td>\n",
              "      <td>0.013289</td>\n",
              "      <td>0.119241</td>\n",
              "      <td>-0.024042</td>\n",
              "      <td>0.057162</td>\n",
              "      <td>0.003978</td>\n",
              "      <td>1.000000</td>\n",
              "      <td>0.094670</td>\n",
              "    </tr>\n",
              "    <tr>\n",
              "      <th>audio_valence</th>\n",
              "      <td>-0.010750</td>\n",
              "      <td>-0.052895</td>\n",
              "      <td>-0.063421</td>\n",
              "      <td>-0.121670</td>\n",
              "      <td>0.332014</td>\n",
              "      <td>0.316742</td>\n",
              "      <td>-0.178570</td>\n",
              "      <td>0.025356</td>\n",
              "      <td>0.013789</td>\n",
              "      <td>0.199696</td>\n",
              "      <td>-0.004558</td>\n",
              "      <td>0.011046</td>\n",
              "      <td>0.037667</td>\n",
              "      <td>0.094670</td>\n",
              "      <td>1.000000</td>\n",
              "    </tr>\n",
              "  </tbody>\n",
              "</table>\n",
              "</div>\n",
              "      <button class=\"colab-df-convert\" onclick=\"convertToInteractive('df-a2a117de-5b70-41fc-a716-1464e98bad20')\"\n",
              "              title=\"Convert this dataframe to an interactive table.\"\n",
              "              style=\"display:none;\">\n",
              "        \n",
              "  <svg xmlns=\"http://www.w3.org/2000/svg\" height=\"24px\"viewBox=\"0 0 24 24\"\n",
              "       width=\"24px\">\n",
              "    <path d=\"M0 0h24v24H0V0z\" fill=\"none\"/>\n",
              "    <path d=\"M18.56 5.44l.94 2.06.94-2.06 2.06-.94-2.06-.94-.94-2.06-.94 2.06-2.06.94zm-11 1L8.5 8.5l.94-2.06 2.06-.94-2.06-.94L8.5 2.5l-.94 2.06-2.06.94zm10 10l.94 2.06.94-2.06 2.06-.94-2.06-.94-.94-2.06-.94 2.06-2.06.94z\"/><path d=\"M17.41 7.96l-1.37-1.37c-.4-.4-.92-.59-1.43-.59-.52 0-1.04.2-1.43.59L10.3 9.45l-7.72 7.72c-.78.78-.78 2.05 0 2.83L4 21.41c.39.39.9.59 1.41.59.51 0 1.02-.2 1.41-.59l7.78-7.78 2.81-2.81c.8-.78.8-2.07 0-2.86zM5.41 20L4 18.59l7.72-7.72 1.47 1.35L5.41 20z\"/>\n",
              "  </svg>\n",
              "      </button>\n",
              "      \n",
              "  <style>\n",
              "    .colab-df-container {\n",
              "      display:flex;\n",
              "      flex-wrap:wrap;\n",
              "      gap: 12px;\n",
              "    }\n",
              "\n",
              "    .colab-df-convert {\n",
              "      background-color: #E8F0FE;\n",
              "      border: none;\n",
              "      border-radius: 50%;\n",
              "      cursor: pointer;\n",
              "      display: none;\n",
              "      fill: #1967D2;\n",
              "      height: 32px;\n",
              "      padding: 0 0 0 0;\n",
              "      width: 32px;\n",
              "    }\n",
              "\n",
              "    .colab-df-convert:hover {\n",
              "      background-color: #E2EBFA;\n",
              "      box-shadow: 0px 1px 2px rgba(60, 64, 67, 0.3), 0px 1px 3px 1px rgba(60, 64, 67, 0.15);\n",
              "      fill: #174EA6;\n",
              "    }\n",
              "\n",
              "    [theme=dark] .colab-df-convert {\n",
              "      background-color: #3B4455;\n",
              "      fill: #D2E3FC;\n",
              "    }\n",
              "\n",
              "    [theme=dark] .colab-df-convert:hover {\n",
              "      background-color: #434B5C;\n",
              "      box-shadow: 0px 1px 3px 1px rgba(0, 0, 0, 0.15);\n",
              "      filter: drop-shadow(0px 1px 2px rgba(0, 0, 0, 0.3));\n",
              "      fill: #FFFFFF;\n",
              "    }\n",
              "  </style>\n",
              "\n",
              "      <script>\n",
              "        const buttonEl =\n",
              "          document.querySelector('#df-a2a117de-5b70-41fc-a716-1464e98bad20 button.colab-df-convert');\n",
              "        buttonEl.style.display =\n",
              "          google.colab.kernel.accessAllowed ? 'block' : 'none';\n",
              "\n",
              "        async function convertToInteractive(key) {\n",
              "          const element = document.querySelector('#df-a2a117de-5b70-41fc-a716-1464e98bad20');\n",
              "          const dataTable =\n",
              "            await google.colab.kernel.invokeFunction('convertToInteractive',\n",
              "                                                     [key], {});\n",
              "          if (!dataTable) return;\n",
              "\n",
              "          const docLinkHtml = 'Like what you see? Visit the ' +\n",
              "            '<a target=\"_blank\" href=https://colab.research.google.com/notebooks/data_table.ipynb>data table notebook</a>'\n",
              "            + ' to learn more about interactive tables.';\n",
              "          element.innerHTML = '';\n",
              "          dataTable['output_type'] = 'display_data';\n",
              "          await google.colab.output.renderOutput(dataTable, element);\n",
              "          const docLink = document.createElement('div');\n",
              "          docLink.innerHTML = docLinkHtml;\n",
              "          element.appendChild(docLink);\n",
              "        }\n",
              "      </script>\n",
              "    </div>\n",
              "  </div>\n",
              "  "
            ]
          },
          "metadata": {},
          "execution_count": 107
        }
      ]
    },
    {
      "cell_type": "code",
      "source": [
        "sns.heatmap(data_norm.corr(),annot=True)"
      ],
      "metadata": {
        "colab": {
          "base_uri": "https://localhost:8080/",
          "height": 367
        },
        "id": "sQXv9HNEyk1N",
        "outputId": "f6867e46-0c42-469a-cac4-610c27eee8ea"
      },
      "execution_count": 108,
      "outputs": [
        {
          "output_type": "execute_result",
          "data": {
            "text/plain": [
              "<Axes: >"
            ]
          },
          "metadata": {},
          "execution_count": 108
        },
        {
          "output_type": "display_data",
          "data": {
            "text/plain": [
              "<Figure size 432x288 with 2 Axes>"
            ],
            "image/png": "[encoded data removed]"
          },
          "metadata": {
            "needs_background": "light"
          }
        }
      ]
    },
    {
      "cell_type": "markdown",
      "source": [
        "##Correlation between the features 'energy' and 'loudness'"
      ],
      "metadata": {
        "id": "6yamXW-s0W9N"
      }
    },
    {
      "cell_type": "code",
      "source": [
        "sns.scatterplot(data=data_norm, x=\"energy\", y=\"loudness\")"
      ],
      "metadata": {
        "colab": {
          "base_uri": "https://localhost:8080/",
          "height": 296
        },
        "id": "fD7aFTr7ze9e",
        "outputId": "d8b3b796-f50d-4b91-d3c4-95cfb0ffe2a9"
      },
      "execution_count": 109,
      "outputs": [
        {
          "output_type": "execute_result",
          "data": {
            "text/plain": [
              "<Axes: xlabel='energy', ylabel='loudness'>"
            ]
          },
          "metadata": {},
          "execution_count": 109
        },
        {
          "output_type": "display_data",
          "data": {
            "text/plain": [
              "<Figure size 432x288 with 1 Axes>"
            ],
            "image/png": "[encoded data removed]"
          },
          "metadata": {
            "needs_background": "light"
          }
        }
      ]
    },
    {
      "cell_type": "markdown",
      "source": [
        "##Dropping the energy column"
      ],
      "metadata": {
        "id": "JcmKGB791CSS"
      }
    },
    {
      "cell_type": "code",
      "source": [
        "data=data_norm.drop('energy',axis=1)"
      ],
      "metadata": {
        "id": "IEcy-4IF1ARW"
      },
      "execution_count": 110,
      "outputs": []
    },
    {
      "cell_type": "markdown",
      "source": [
        "##Checking the outliers"
      ],
      "metadata": {
        "id": "IwfW6lY61Z_F"
      }
    },
    {
      "cell_type": "code",
      "source": [
        "def find_outliers_IQR(df):\n",
        "\n",
        "   q1=df.quantile(0.25)\n",
        "\n",
        "   q3=df.quantile(0.75)\n",
        "\n",
        "   IQR=q3-q1\n",
        "\n",
        "   outliers = df[((df<(q1-1.5*IQR)) | (df>(q3+1.5*IQR)))]\n",
        "\n",
        "   return outliers"
      ],
      "metadata": {
        "id": "r8PsRGRn1YSs"
      },
      "execution_count": 111,
      "outputs": []
    },
    {
      "cell_type": "code",
      "source": [
        "outliers = find_outliers_IQR(data['song_popularity'])"
      ],
      "metadata": {
        "id": "CxWNpM8Z3Qvg"
      },
      "execution_count": 112,
      "outputs": []
    },
    {
      "cell_type": "code",
      "source": [
        "outliers"
      ],
      "metadata": {
        "colab": {
          "base_uri": "https://localhost:8080/"
        },
        "id": "JiffbTEE3biG",
        "outputId": "9b5707d7-64b8-4678-9bab-f66a9dd5e479"
      },
      "execution_count": 113,
      "outputs": [
        {
          "output_type": "execute_result",
          "data": {
            "text/plain": [
              "Series([], Name: song_popularity, dtype: float64)"
            ]
          },
          "metadata": {},
          "execution_count": 113
        }
      ]
    },
    {
      "cell_type": "markdown",
      "source": [
        "We can see that there are no outliers"
      ],
      "metadata": {
        "id": "hBtd6AX43gy8"
      }
    },
    {
      "cell_type": "code",
      "source": [
        "sns.boxplot(x=data['song_popularity'])"
      ],
      "metadata": {
        "colab": {
          "base_uri": "https://localhost:8080/",
          "height": 297
        },
        "id": "fTfPX3G03cql",
        "outputId": "7f09c61f-34c1-4cbb-d636-c37e04926995"
      },
      "execution_count": 114,
      "outputs": [
        {
          "output_type": "execute_result",
          "data": {
            "text/plain": [
              "<Axes: xlabel='song_popularity'>"
            ]
          },
          "metadata": {},
          "execution_count": 114
        },
        {
          "output_type": "display_data",
          "data": {
            "text/plain": [
              "<Figure size 432x288 with 1 Axes>"
            ],
            "image/png": "[encoded data removed]"
          },
          "metadata": {
            "needs_background": "light"
          }
        }
      ]
    },
    {
      "cell_type": "code",
      "source": [
        "data['song_popularity']"
      ],
      "metadata": {
        "colab": {
          "base_uri": "https://localhost:8080/"
        },
        "id": "xmaQd6eNlNTV",
        "outputId": "f249e7be-8f3f-44a2-fc6f-d857af540496"
      },
      "execution_count": 115,
      "outputs": [
        {
          "output_type": "execute_result",
          "data": {
            "text/plain": [
              "0        0.73\n",
              "1        0.66\n",
              "2        0.76\n",
              "3        0.74\n",
              "4        0.56\n",
              "         ... \n",
              "18830    0.60\n",
              "18831    0.60\n",
              "18832    0.23\n",
              "18833    0.55\n",
              "18834    0.60\n",
              "Name: song_popularity, Length: 18835, dtype: float64"
            ]
          },
          "metadata": {},
          "execution_count": 115
        }
      ]
    },
    {
      "cell_type": "code",
      "source": [
        "def func(x):\n",
        "    if 0 < x <= 0.65:\n",
        "        return 0\n",
        "    else:\n",
        "        return 1"
      ],
      "metadata": {
        "id": "sAnT17nykk7Q"
      },
      "execution_count": 116,
      "outputs": []
    },
    {
      "cell_type": "code",
      "source": [
        "data['song_popularity'] = data['song_popularity'].apply(func)"
      ],
      "metadata": {
        "id": "1aa8EGfckphd"
      },
      "execution_count": 117,
      "outputs": []
    },
    {
      "cell_type": "code",
      "source": [
        "Y=data['song_popularity']"
      ],
      "metadata": {
        "id": "b1sz5AbHku3M"
      },
      "execution_count": 118,
      "outputs": []
    },
    {
      "cell_type": "code",
      "source": [
        "X=data.drop('song_popularity',axis=1)"
      ],
      "metadata": {
        "id": "PTsJF7_j4oA5"
      },
      "execution_count": 119,
      "outputs": []
    },
    {
      "cell_type": "code",
      "source": [
        "Y"
      ],
      "metadata": {
        "colab": {
          "base_uri": "https://localhost:8080/"
        },
        "id": "IplqRAs9isW4",
        "outputId": "d970edad-605b-406f-9910-51d4b63bfbe4"
      },
      "execution_count": 120,
      "outputs": [
        {
          "output_type": "execute_result",
          "data": {
            "text/plain": [
              "0        1\n",
              "1        1\n",
              "2        1\n",
              "3        1\n",
              "4        0\n",
              "        ..\n",
              "18830    0\n",
              "18831    0\n",
              "18832    0\n",
              "18833    0\n",
              "18834    0\n",
              "Name: song_popularity, Length: 18835, dtype: int64"
            ]
          },
          "metadata": {},
          "execution_count": 120
        }
      ]
    },
    {
      "cell_type": "code",
      "source": [
        "data['song_popularity'].value_counts().sort_index()"
      ],
      "metadata": {
        "colab": {
          "base_uri": "https://localhost:8080/"
        },
        "id": "c2CzSxofk-g2",
        "outputId": "219d2558-8a64-4ed8-c1e2-774e22bd7241"
      },
      "execution_count": 121,
      "outputs": [
        {
          "output_type": "execute_result",
          "data": {
            "text/plain": [
              "0    12761\n",
              "1     6074\n",
              "Name: song_popularity, dtype: int64"
            ]
          },
          "metadata": {},
          "execution_count": 121
        }
      ]
    },
    {
      "cell_type": "markdown",
      "source": [
        "##Splitting train and test data"
      ],
      "metadata": {
        "id": "P6dA1ObF5MBT"
      }
    },
    {
      "cell_type": "code",
      "source": [
        "X_train,X_test,Y_train,Y_test=train_test_split(X, Y,test_size=0.2, random_state=4)"
      ],
      "metadata": {
        "id": "MjCYLWN74sJI"
      },
      "execution_count": 122,
      "outputs": []
    },
    {
      "cell_type": "code",
      "source": [
        "X_train.shape"
      ],
      "metadata": {
        "colab": {
          "base_uri": "https://localhost:8080/"
        },
        "id": "I_8sv9XB43j_",
        "outputId": "ee021390-e3ff-4abd-a61b-df9f28bfa9cd"
      },
      "execution_count": 123,
      "outputs": [
        {
          "output_type": "execute_result",
          "data": {
            "text/plain": [
              "(15068, 13)"
            ]
          },
          "metadata": {},
          "execution_count": 123
        }
      ]
    },
    {
      "cell_type": "code",
      "source": [
        "X_test.shape"
      ],
      "metadata": {
        "colab": {
          "base_uri": "https://localhost:8080/"
        },
        "id": "6Wb8vXNc5GT_",
        "outputId": "ddc0ca82-4f53-40e1-bdba-283e7b4a9777"
      },
      "execution_count": 124,
      "outputs": [
        {
          "output_type": "execute_result",
          "data": {
            "text/plain": [
              "(3767, 13)"
            ]
          },
          "metadata": {},
          "execution_count": 124
        }
      ]
    },
    {
      "cell_type": "code",
      "source": [
        "Y_train"
      ],
      "metadata": {
        "colab": {
          "base_uri": "https://localhost:8080/"
        },
        "id": "bHl66HdGjFeP",
        "outputId": "3464f54b-63ab-4009-bb75-b61ea288473f"
      },
      "execution_count": 125,
      "outputs": [
        {
          "output_type": "execute_result",
          "data": {
            "text/plain": [
              "616      0\n",
              "18748    0\n",
              "11498    0\n",
              "14361    0\n",
              "13411    1\n",
              "        ..\n",
              "16840    0\n",
              "11863    0\n",
              "17093    1\n",
              "8366     0\n",
              "17530    0\n",
              "Name: song_popularity, Length: 15068, dtype: int64"
            ]
          },
          "metadata": {},
          "execution_count": 125
        }
      ]
    },
    {
      "cell_type": "code",
      "source": [
        "lr = LogisticRegression()\n",
        "lr.fit(X_train, Y_train)\n",
        "y_pred = lr.predict(X_test)"
      ],
      "metadata": {
        "id": "UykqGwH9kTJd"
      },
      "execution_count": 126,
      "outputs": []
    },
    {
      "cell_type": "code",
      "source": [
        "from sklearn.metrics import accuracy_score\n",
        "print('Accuracy : ',accuracy_score(Y_test,y_pred))"
      ],
      "metadata": {
        "colab": {
          "base_uri": "https://localhost:8080/"
        },
        "id": "mEW7vq2KkXum",
        "outputId": "f9d77c6b-87f7-4265-b101-03b9d8288e60"
      },
      "execution_count": 127,
      "outputs": [
        {
          "output_type": "stream",
          "name": "stdout",
          "text": [
            "Accuracy :  0.6740111494558003\n"
          ]
        }
      ]
    },
    {
      "cell_type": "code",
      "source": [
        "xgb_reg = xgb.XGBClassifier()\n",
        "xgb_reg.fit(X_train, Y_train)\n",
        "y_pred = xgb_reg.predict(X_test)"
      ],
      "metadata": {
        "id": "d223d_cojB1t"
      },
      "execution_count": 128,
      "outputs": []
    },
    {
      "cell_type": "code",
      "source": [
        "print('Accuracy : ',accuracy_score(Y_test,y_pred))"
      ],
      "metadata": {
        "colab": {
          "base_uri": "https://localhost:8080/"
        },
        "id": "z9_ClhJYklwk",
        "outputId": "6670a2ef-179f-4f82-e164-bda32d67202a"
      },
      "execution_count": 129,
      "outputs": [
        {
          "output_type": "stream",
          "name": "stdout",
          "text": [
            "Accuracy :  0.7966551632598885\n"
          ]
        }
      ]
    },
    {
      "cell_type": "code",
      "source": [
        "y_pred"
      ],
      "metadata": {
        "colab": {
          "base_uri": "https://localhost:8080/"
        },
        "id": "3AOhjZ0enBjD",
        "outputId": "b3ae975f-37b0-4407-965d-c7138f509200"
      },
      "execution_count": 130,
      "outputs": [
        {
          "output_type": "execute_result",
          "data": {
            "text/plain": [
              "array([0, 1, 0, ..., 0, 0, 0])"
            ]
          },
          "metadata": {},
          "execution_count": 130
        }
      ]
    },
    {
      "cell_type": "code",
      "source": [
        "Y_test"
      ],
      "metadata": {
        "colab": {
          "base_uri": "https://localhost:8080/"
        },
        "id": "vMVavOjynF-z",
        "outputId": "d6085d68-370f-41d9-ed16-4f68cfc2835a"
      },
      "execution_count": 131,
      "outputs": [
        {
          "output_type": "execute_result",
          "data": {
            "text/plain": [
              "4079     0\n",
              "3442     0\n",
              "17909    0\n",
              "4951     0\n",
              "6701     0\n",
              "        ..\n",
              "1521     1\n",
              "8569     0\n",
              "13434    0\n",
              "15258    0\n",
              "8474     0\n",
              "Name: song_popularity, Length: 3767, dtype: int64"
            ]
          },
          "metadata": {},
          "execution_count": 131
        }
      ]
    },
    {
      "cell_type": "code",
      "source": [
        "param_grid = {\n",
        "    'n_estimators': [50, 100, 200],\n",
        "    'max_depth': [3, 5, 7],\n",
        "    'learning_rate': [0.01, 0.1, 0.3]\n",
        "}"
      ],
      "metadata": {
        "id": "DOMWwZTUly34"
      },
      "execution_count": 132,
      "outputs": []
    },
    {
      "cell_type": "code",
      "source": [],
      "metadata": {
        "id": "Fk-OOq4QnFG7"
      },
      "execution_count": 132,
      "outputs": []
    },
    {
      "cell_type": "code",
      "source": [
        "grid_search = GridSearchCV(estimator=xgb_reg, param_grid=param_grid, cv=5, scoring='roc_auc')\n",
        "grid_search.fit(X_train, Y_train)"
      ],
      "metadata": {
        "colab": {
          "base_uri": "https://localhost:8080/",
          "height": 117
        },
        "id": "tp27peFnl3_S",
        "outputId": "ed2ac5b9-b013-4e85-9823-1f6d464b1558"
      },
      "execution_count": 134,
      "outputs": [
        {
          "output_type": "execute_result",
          "data": {
            "text/plain": [
              "GridSearchCV(cv=5,\n",
              "             estimator=XGBClassifier(base_score=None, booster=None,\n",
              "                                     callbacks=None, colsample_bylevel=None,\n",
              "                                     colsample_bynode=None,\n",
              "                                     colsample_bytree=None,\n",
              "                                     early_stopping_rounds=None,\n",
              "                                     enable_categorical=False, eval_metric=None,\n",
              "                                     feature_types=None, gamma=None,\n",
              "                                     gpu_id=None, grow_policy=None,\n",
              "                                     importance_type=None,\n",
              "                                     interaction_constraints=None,\n",
              "                                     learning_rate=None,...\n",
              "                                     max_cat_threshold=None,\n",
              "                                     max_cat_to_onehot=None,\n",
              "                                     max_delta_step=None, max_depth=None,\n",
              "                                     max_leaves=None, min_child_weight=None,\n",
              "                                     missing=nan, monotone_constraints=None,\n",
              "                                     n_estimators=100, n_jobs=None,\n",
              "                                     num_parallel_tree=None, predictor=None,\n",
              "                                     random_state=None, ...),\n",
              "             param_grid={'learning_rate': [0.01, 0.1, 0.3],\n",
              "                         'max_depth': [3, 5, 7],\n",
              "                         'n_estimators': [50, 100, 200]},\n",
              "             scoring='roc_auc')"
            ],
            "text/html": [
              "<style>#sk-container-id-1 {color: black;background-color: white;}#sk-container-id-1 pre{padding: 0;}#sk-container-id-1 div.sk-toggleable {background-color: white;}#sk-container-id-1 label.sk-toggleable__label {cursor: pointer;display: block;width: 100%;margin-bottom: 0;padding: 0.3em;box-sizing: border-box;text-align: center;}#sk-container-id-1 label.sk-toggleable__label-arrow:before {content: \"▸\";float: left;margin-right: 0.25em;color: #696969;}#sk-container-id-1 label.sk-toggleable__label-arrow:hover:before {color: black;}#sk-container-id-1 div.sk-estimator:hover label.sk-toggleable__label-arrow:before {color: black;}#sk-container-id-1 div.sk-toggleable__content {max-height: 0;max-width: 0;overflow: hidden;text-align: left;background-color: #f0f8ff;}#sk-container-id-1 div.sk-toggleable__content pre {margin: 0.2em;color: black;border-radius: 0.25em;background-color: #f0f8ff;}#sk-container-id-1 input.sk-toggleable__control:checked~div.sk-toggleable__content {max-height: 200px;max-width: 100%;overflow: auto;}#sk-container-id-1 input.sk-toggleable__control:checked~label.sk-toggleable__label-arrow:before {content: \"▾\";}#sk-container-id-1 div.sk-estimator input.sk-toggleable__control:checked~label.sk-toggleable__label {background-color: #d4ebff;}#sk-container-id-1 div.sk-label input.sk-toggleable__control:checked~label.sk-toggleable__label {background-color: #d4ebff;}#sk-container-id-1 input.sk-hidden--visually {border: 0;clip: rect(1px 1px 1px 1px);clip: rect(1px, 1px, 1px, 1px);height: 1px;margin: -1px;overflow: hidden;padding: 0;position: absolute;width: 1px;}#sk-container-id-1 div.sk-estimator {font-family: monospace;background-color: #f0f8ff;border: 1px dotted black;border-radius: 0.25em;box-sizing: border-box;margin-bottom: 0.5em;}#sk-container-id-1 div.sk-estimator:hover {background-color: #d4ebff;}#sk-container-id-1 div.sk-parallel-item::after {content: \"\";width: 100%;border-bottom: 1px solid gray;flex-grow: 1;}#sk-container-id-1 div.sk-label:hover label.sk-toggleable__label {background-color: #d4ebff;}#sk-container-id-1 div.sk-serial::before {content: \"\";position: absolute;border-left: 1px solid gray;box-sizing: border-box;top: 0;bottom: 0;left: 50%;z-index: 0;}#sk-container-id-1 div.sk-serial {display: flex;flex-direction: column;align-items: center;background-color: white;padding-right: 0.2em;padding-left: 0.2em;position: relative;}#sk-container-id-1 div.sk-item {position: relative;z-index: 1;}#sk-container-id-1 div.sk-parallel {display: flex;align-items: stretch;justify-content: center;background-color: white;position: relative;}#sk-container-id-1 div.sk-item::before, #sk-container-id-1 div.sk-parallel-item::before {content: \"\";position: absolute;border-left: 1px solid gray;box-sizing: border-box;top: 0;bottom: 0;left: 50%;z-index: -1;}#sk-container-id-1 div.sk-parallel-item {display: flex;flex-direction: column;z-index: 1;position: relative;background-color: white;}#sk-container-id-1 div.sk-parallel-item:first-child::after {align-self: flex-end;width: 50%;}#sk-container-id-1 div.sk-parallel-item:last-child::after {align-self: flex-start;width: 50%;}#sk-container-id-1 div.sk-parallel-item:only-child::after {width: 0;}#sk-container-id-1 div.sk-dashed-wrapped {border: 1px dashed gray;margin: 0 0.4em 0.5em 0.4em;box-sizing: border-box;padding-bottom: 0.4em;background-color: white;}#sk-container-id-1 div.sk-label label {font-family: monospace;font-weight: bold;display: inline-block;line-height: 1.2em;}#sk-container-id-1 div.sk-label-container {text-align: center;}#sk-container-id-1 div.sk-container {/* jupyter's `normalize.less` sets `[hidden] { display: none; }` but bootstrap.min.css set `[hidden] { display: none !important; }` so we also need the `!important` here to be able to override the default hidden behavior on the sphinx rendered scikit-learn.org. See: https://github.com/scikit-learn/scikit-learn/issues/21755 */display: inline-block !important;position: relative;}#sk-container-id-1 div.sk-text-repr-fallback {display: none;}</style><div id=\"sk-container-id-1\" class=\"sk-top-container\"><div class=\"sk-text-repr-fallback\"><pre>GridSearchCV(cv=5,\n",
              "             estimator=XGBClassifier(base_score=None, booster=None,\n",
              "                                     callbacks=None, colsample_bylevel=None,\n",
              "                                     colsample_bynode=None,\n",
              "                                     colsample_bytree=None,\n",
              "                                     early_stopping_rounds=None,\n",
              "                                     enable_categorical=False, eval_metric=None,\n",
              "                                     feature_types=None, gamma=None,\n",
              "                                     gpu_id=None, grow_policy=None,\n",
              "                                     importance_type=None,\n",
              "                                     interaction_constraints=None,\n",
              "                                     learning_rate=None,...\n",
              "                                     max_cat_threshold=None,\n",
              "                                     max_cat_to_onehot=None,\n",
              "                                     max_delta_step=None, max_depth=None,\n",
              "                                     max_leaves=None, min_child_weight=None,\n",
              "                                     missing=nan, monotone_constraints=None,\n",
              "                                     n_estimators=100, n_jobs=None,\n",
              "                                     num_parallel_tree=None, predictor=None,\n",
              "                                     random_state=None, ...),\n",
              "             param_grid={&#x27;learning_rate&#x27;: [0.01, 0.1, 0.3],\n",
              "                         &#x27;max_depth&#x27;: [3, 5, 7],\n",
              "                         &#x27;n_estimators&#x27;: [50, 100, 200]},\n",
              "             scoring=&#x27;roc_auc&#x27;)</pre><b>In a Jupyter environment, please rerun this cell to show the HTML representation or trust the notebook. <br />On GitHub, the HTML representation is unable to render, please try loading this page with nbviewer.org.</b></div><div class=\"sk-container\" hidden><div class=\"sk-item sk-dashed-wrapped\"><div class=\"sk-label-container\"><div class=\"sk-label sk-toggleable\"><input class=\"sk-toggleable__control sk-hidden--visually\" id=\"sk-estimator-id-1\" type=\"checkbox\" ><label for=\"sk-estimator-id-1\" class=\"sk-toggleable__label sk-toggleable__label-arrow\">GridSearchCV</label><div class=\"sk-toggleable__content\"><pre>GridSearchCV(cv=5,\n",
              "             estimator=XGBClassifier(base_score=None, booster=None,\n",
              "                                     callbacks=None, colsample_bylevel=None,\n",
              "                                     colsample_bynode=None,\n",
              "                                     colsample_bytree=None,\n",
              "                                     early_stopping_rounds=None,\n",
              "                                     enable_categorical=False, eval_metric=None,\n",
              "                                     feature_types=None, gamma=None,\n",
              "                                     gpu_id=None, grow_policy=None,\n",
              "                                     importance_type=None,\n",
              "                                     interaction_constraints=None,\n",
              "                                     learning_rate=None,...\n",
              "                                     max_cat_threshold=None,\n",
              "                                     max_cat_to_onehot=None,\n",
              "                                     max_delta_step=None, max_depth=None,\n",
              "                                     max_leaves=None, min_child_weight=None,\n",
              "                                     missing=nan, monotone_constraints=None,\n",
              "                                     n_estimators=100, n_jobs=None,\n",
              "                                     num_parallel_tree=None, predictor=None,\n",
              "                                     random_state=None, ...),\n",
              "             param_grid={&#x27;learning_rate&#x27;: [0.01, 0.1, 0.3],\n",
              "                         &#x27;max_depth&#x27;: [3, 5, 7],\n",
              "                         &#x27;n_estimators&#x27;: [50, 100, 200]},\n",
              "             scoring=&#x27;roc_auc&#x27;)</pre></div></div></div><div class=\"sk-parallel\"><div class=\"sk-parallel-item\"><div class=\"sk-item\"><div class=\"sk-label-container\"><div class=\"sk-label sk-toggleable\"><input class=\"sk-toggleable__control sk-hidden--visually\" id=\"sk-estimator-id-2\" type=\"checkbox\" ><label for=\"sk-estimator-id-2\" class=\"sk-toggleable__label sk-toggleable__label-arrow\">estimator: XGBClassifier</label><div class=\"sk-toggleable__content\"><pre>XGBClassifier(base_score=None, booster=None, callbacks=None,\n",
              "              colsample_bylevel=None, colsample_bynode=None,\n",
              "              colsample_bytree=None, early_stopping_rounds=None,\n",
              "              enable_categorical=False, eval_metric=None, feature_types=None,\n",
              "              gamma=None, gpu_id=None, grow_policy=None, importance_type=None,\n",
              "              interaction_constraints=None, learning_rate=None, max_bin=None,\n",
              "              max_cat_threshold=None, max_cat_to_onehot=None,\n",
              "              max_delta_step=None, max_depth=None, max_leaves=None,\n",
              "              min_child_weight=None, missing=nan, monotone_constraints=None,\n",
              "              n_estimators=100, n_jobs=None, num_parallel_tree=None,\n",
              "              predictor=None, random_state=None, ...)</pre></div></div></div><div class=\"sk-serial\"><div class=\"sk-item\"><div class=\"sk-estimator sk-toggleable\"><input class=\"sk-toggleable__control sk-hidden--visually\" id=\"sk-estimator-id-3\" type=\"checkbox\" ><label for=\"sk-estimator-id-3\" class=\"sk-toggleable__label sk-toggleable__label-arrow\">XGBClassifier</label><div class=\"sk-toggleable__content\"><pre>XGBClassifier(base_score=None, booster=None, callbacks=None,\n",
              "              colsample_bylevel=None, colsample_bynode=None,\n",
              "              colsample_bytree=None, early_stopping_rounds=None,\n",
              "              enable_categorical=False, eval_metric=None, feature_types=None,\n",
              "              gamma=None, gpu_id=None, grow_policy=None, importance_type=None,\n",
              "              interaction_constraints=None, learning_rate=None, max_bin=None,\n",
              "              max_cat_threshold=None, max_cat_to_onehot=None,\n",
              "              max_delta_step=None, max_depth=None, max_leaves=None,\n",
              "              min_child_weight=None, missing=nan, monotone_constraints=None,\n",
              "              n_estimators=100, n_jobs=None, num_parallel_tree=None,\n",
              "              predictor=None, random_state=None, ...)</pre></div></div></div></div></div></div></div></div></div></div>"
            ]
          },
          "metadata": {},
          "execution_count": 134
        }
      ]
    },
    {
      "cell_type": "code",
      "source": [
        "print('Best hyperparameters:', grid_search.best_params_)\n",
        "print('Best score:', grid_search.best_score_)\n",
        "best_model = grid_search.best_estimator_\n",
        "y_pred = best_model.predict(X_test)"
      ],
      "metadata": {
        "colab": {
          "base_uri": "https://localhost:8080/"
        },
        "id": "6NNJM_nmmTE0",
        "outputId": "7b9f688d-51bc-4b8b-94d0-4c06f277f427"
      },
      "execution_count": 136,
      "outputs": [
        {
          "output_type": "stream",
          "name": "stdout",
          "text": [
            "Best hyperparameters: {'learning_rate': 0.3, 'max_depth': 7, 'n_estimators': 200}\n",
            "Best score: 0.822063636152422\n"
          ]
        }
      ]
    },
    {
      "cell_type": "code",
      "source": [
        "xgb_reg = xgb.XGBClassifier(learning_rate=0.3,max_depth=7,n_estimators=200)"
      ],
      "metadata": {
        "id": "OMB8xIQDn7tQ"
      },
      "execution_count": 140,
      "outputs": []
    },
    {
      "cell_type": "code",
      "source": [
        "params = {\n",
        "    'subsample': [0.7, 0.8, 0.9],\n",
        "    'colsample_bytree': [0.7, 0.8, 0.9],\n",
        "    'gamma': [0, 1, 5],\n",
        "    \n",
        "}"
      ],
      "metadata": {
        "id": "4GoK6SWUoDbH"
      },
      "execution_count": 145,
      "outputs": []
    },
    {
      "cell_type": "code",
      "source": [
        "print('Accuracy:', accuracy_score(Y_test, y_pred))"
      ],
      "metadata": {
        "colab": {
          "base_uri": "https://localhost:8080/"
        },
        "id": "8i3306esoGgR",
        "outputId": "4b72723d-3e11-432e-8a33-554523f54996"
      },
      "execution_count": 146,
      "outputs": [
        {
          "output_type": "stream",
          "name": "stdout",
          "text": [
            "Accuracy: 0.8205468542606849\n"
          ]
        }
      ]
    },
    {
      "cell_type": "code",
      "source": [
        "grid_search = GridSearchCV(estimator=xgb_reg, param_grid=params, cv=5, scoring='roc_auc')\n",
        "grid_search.fit(X_train, Y_train)"
      ],
      "metadata": {
        "id": "uqHkGU3FoLye",
        "colab": {
          "base_uri": "https://localhost:8080/",
          "height": 117
        },
        "outputId": "26945b6a-03b8-4507-fd1a-70316dbb73cc"
      },
      "execution_count": 147,
      "outputs": [
        {
          "output_type": "execute_result",
          "data": {
            "text/plain": [
              "GridSearchCV(cv=5,\n",
              "             estimator=XGBClassifier(base_score=None, booster=None,\n",
              "                                     callbacks=None, colsample_bylevel=None,\n",
              "                                     colsample_bynode=None,\n",
              "                                     colsample_bytree=None,\n",
              "                                     early_stopping_rounds=None,\n",
              "                                     enable_categorical=False, eval_metric=None,\n",
              "                                     feature_types=None, gamma=None,\n",
              "                                     gpu_id=None, grow_policy=None,\n",
              "                                     importance_type=None,\n",
              "                                     interaction_constraints=None,\n",
              "                                     learning_rate=0.3, m...\n",
              "                                     max_cat_threshold=None,\n",
              "                                     max_cat_to_onehot=None,\n",
              "                                     max_delta_step=None, max_depth=7,\n",
              "                                     max_leaves=None, min_child_weight=None,\n",
              "                                     missing=nan, monotone_constraints=None,\n",
              "                                     n_estimators=200, n_jobs=None,\n",
              "                                     num_parallel_tree=None, predictor=None,\n",
              "                                     random_state=None, ...),\n",
              "             param_grid={'colsample_bytree': [0.7, 0.8, 0.9],\n",
              "                         'gamma': [0, 1, 5], 'subsample': [0.7, 0.8, 0.9]},\n",
              "             scoring='roc_auc')"
            ],
            "text/html": [
              "<style>#sk-container-id-3 {color: black;background-color: white;}#sk-container-id-3 pre{padding: 0;}#sk-container-id-3 div.sk-toggleable {background-color: white;}#sk-container-id-3 label.sk-toggleable__label {cursor: pointer;display: block;width: 100%;margin-bottom: 0;padding: 0.3em;box-sizing: border-box;text-align: center;}#sk-container-id-3 label.sk-toggleable__label-arrow:before {content: \"▸\";float: left;margin-right: 0.25em;color: #696969;}#sk-container-id-3 label.sk-toggleable__label-arrow:hover:before {color: black;}#sk-container-id-3 div.sk-estimator:hover label.sk-toggleable__label-arrow:before {color: black;}#sk-container-id-3 div.sk-toggleable__content {max-height: 0;max-width: 0;overflow: hidden;text-align: left;background-color: #f0f8ff;}#sk-container-id-3 div.sk-toggleable__content pre {margin: 0.2em;color: black;border-radius: 0.25em;background-color: #f0f8ff;}#sk-container-id-3 input.sk-toggleable__control:checked~div.sk-toggleable__content {max-height: 200px;max-width: 100%;overflow: auto;}#sk-container-id-3 input.sk-toggleable__control:checked~label.sk-toggleable__label-arrow:before {content: \"▾\";}#sk-container-id-3 div.sk-estimator input.sk-toggleable__control:checked~label.sk-toggleable__label {background-color: #d4ebff;}#sk-container-id-3 div.sk-label input.sk-toggleable__control:checked~label.sk-toggleable__label {background-color: #d4ebff;}#sk-container-id-3 input.sk-hidden--visually {border: 0;clip: rect(1px 1px 1px 1px);clip: rect(1px, 1px, 1px, 1px);height: 1px;margin: -1px;overflow: hidden;padding: 0;position: absolute;width: 1px;}#sk-container-id-3 div.sk-estimator {font-family: monospace;background-color: #f0f8ff;border: 1px dotted black;border-radius: 0.25em;box-sizing: border-box;margin-bottom: 0.5em;}#sk-container-id-3 div.sk-estimator:hover {background-color: #d4ebff;}#sk-container-id-3 div.sk-parallel-item::after {content: \"\";width: 100%;border-bottom: 1px solid gray;flex-grow: 1;}#sk-container-id-3 div.sk-label:hover label.sk-toggleable__label {background-color: #d4ebff;}#sk-container-id-3 div.sk-serial::before {content: \"\";position: absolute;border-left: 1px solid gray;box-sizing: border-box;top: 0;bottom: 0;left: 50%;z-index: 0;}#sk-container-id-3 div.sk-serial {display: flex;flex-direction: column;align-items: center;background-color: white;padding-right: 0.2em;padding-left: 0.2em;position: relative;}#sk-container-id-3 div.sk-item {position: relative;z-index: 1;}#sk-container-id-3 div.sk-parallel {display: flex;align-items: stretch;justify-content: center;background-color: white;position: relative;}#sk-container-id-3 div.sk-item::before, #sk-container-id-3 div.sk-parallel-item::before {content: \"\";position: absolute;border-left: 1px solid gray;box-sizing: border-box;top: 0;bottom: 0;left: 50%;z-index: -1;}#sk-container-id-3 div.sk-parallel-item {display: flex;flex-direction: column;z-index: 1;position: relative;background-color: white;}#sk-container-id-3 div.sk-parallel-item:first-child::after {align-self: flex-end;width: 50%;}#sk-container-id-3 div.sk-parallel-item:last-child::after {align-self: flex-start;width: 50%;}#sk-container-id-3 div.sk-parallel-item:only-child::after {width: 0;}#sk-container-id-3 div.sk-dashed-wrapped {border: 1px dashed gray;margin: 0 0.4em 0.5em 0.4em;box-sizing: border-box;padding-bottom: 0.4em;background-color: white;}#sk-container-id-3 div.sk-label label {font-family: monospace;font-weight: bold;display: inline-block;line-height: 1.2em;}#sk-container-id-3 div.sk-label-container {text-align: center;}#sk-container-id-3 div.sk-container {/* jupyter's `normalize.less` sets `[hidden] { display: none; }` but bootstrap.min.css set `[hidden] { display: none !important; }` so we also need the `!important` here to be able to override the default hidden behavior on the sphinx rendered scikit-learn.org. See: https://github.com/scikit-learn/scikit-learn/issues/21755 */display: inline-block !important;position: relative;}#sk-container-id-3 div.sk-text-repr-fallback {display: none;}</style><div id=\"sk-container-id-3\" class=\"sk-top-container\"><div class=\"sk-text-repr-fallback\"><pre>GridSearchCV(cv=5,\n",
              "             estimator=XGBClassifier(base_score=None, booster=None,\n",
              "                                     callbacks=None, colsample_bylevel=None,\n",
              "                                     colsample_bynode=None,\n",
              "                                     colsample_bytree=None,\n",
              "                                     early_stopping_rounds=None,\n",
              "                                     enable_categorical=False, eval_metric=None,\n",
              "                                     feature_types=None, gamma=None,\n",
              "                                     gpu_id=None, grow_policy=None,\n",
              "                                     importance_type=None,\n",
              "                                     interaction_constraints=None,\n",
              "                                     learning_rate=0.3, m...\n",
              "                                     max_cat_threshold=None,\n",
              "                                     max_cat_to_onehot=None,\n",
              "                                     max_delta_step=None, max_depth=7,\n",
              "                                     max_leaves=None, min_child_weight=None,\n",
              "                                     missing=nan, monotone_constraints=None,\n",
              "                                     n_estimators=200, n_jobs=None,\n",
              "                                     num_parallel_tree=None, predictor=None,\n",
              "                                     random_state=None, ...),\n",
              "             param_grid={&#x27;colsample_bytree&#x27;: [0.7, 0.8, 0.9],\n",
              "                         &#x27;gamma&#x27;: [0, 1, 5], &#x27;subsample&#x27;: [0.7, 0.8, 0.9]},\n",
              "             scoring=&#x27;roc_auc&#x27;)</pre><b>In a Jupyter environment, please rerun this cell to show the HTML representation or trust the notebook. <br />On GitHub, the HTML representation is unable to render, please try loading this page with nbviewer.org.</b></div><div class=\"sk-container\" hidden><div class=\"sk-item sk-dashed-wrapped\"><div class=\"sk-label-container\"><div class=\"sk-label sk-toggleable\"><input class=\"sk-toggleable__control sk-hidden--visually\" id=\"sk-estimator-id-7\" type=\"checkbox\" ><label for=\"sk-estimator-id-7\" class=\"sk-toggleable__label sk-toggleable__label-arrow\">GridSearchCV</label><div class=\"sk-toggleable__content\"><pre>GridSearchCV(cv=5,\n",
              "             estimator=XGBClassifier(base_score=None, booster=None,\n",
              "                                     callbacks=None, colsample_bylevel=None,\n",
              "                                     colsample_bynode=None,\n",
              "                                     colsample_bytree=None,\n",
              "                                     early_stopping_rounds=None,\n",
              "                                     enable_categorical=False, eval_metric=None,\n",
              "                                     feature_types=None, gamma=None,\n",
              "                                     gpu_id=None, grow_policy=None,\n",
              "                                     importance_type=None,\n",
              "                                     interaction_constraints=None,\n",
              "                                     learning_rate=0.3, m...\n",
              "                                     max_cat_threshold=None,\n",
              "                                     max_cat_to_onehot=None,\n",
              "                                     max_delta_step=None, max_depth=7,\n",
              "                                     max_leaves=None, min_child_weight=None,\n",
              "                                     missing=nan, monotone_constraints=None,\n",
              "                                     n_estimators=200, n_jobs=None,\n",
              "                                     num_parallel_tree=None, predictor=None,\n",
              "                                     random_state=None, ...),\n",
              "             param_grid={&#x27;colsample_bytree&#x27;: [0.7, 0.8, 0.9],\n",
              "                         &#x27;gamma&#x27;: [0, 1, 5], &#x27;subsample&#x27;: [0.7, 0.8, 0.9]},\n",
              "             scoring=&#x27;roc_auc&#x27;)</pre></div></div></div><div class=\"sk-parallel\"><div class=\"sk-parallel-item\"><div class=\"sk-item\"><div class=\"sk-label-container\"><div class=\"sk-label sk-toggleable\"><input class=\"sk-toggleable__control sk-hidden--visually\" id=\"sk-estimator-id-8\" type=\"checkbox\" ><label for=\"sk-estimator-id-8\" class=\"sk-toggleable__label sk-toggleable__label-arrow\">estimator: XGBClassifier</label><div class=\"sk-toggleable__content\"><pre>XGBClassifier(base_score=None, booster=None, callbacks=None,\n",
              "              colsample_bylevel=None, colsample_bynode=None,\n",
              "              colsample_bytree=None, early_stopping_rounds=None,\n",
              "              enable_categorical=False, eval_metric=None, feature_types=None,\n",
              "              gamma=None, gpu_id=None, grow_policy=None, importance_type=None,\n",
              "              interaction_constraints=None, learning_rate=0.3, max_bin=None,\n",
              "              max_cat_threshold=None, max_cat_to_onehot=None,\n",
              "              max_delta_step=None, max_depth=7, max_leaves=None,\n",
              "              min_child_weight=None, missing=nan, monotone_constraints=None,\n",
              "              n_estimators=200, n_jobs=None, num_parallel_tree=None,\n",
              "              predictor=None, random_state=None, ...)</pre></div></div></div><div class=\"sk-serial\"><div class=\"sk-item\"><div class=\"sk-estimator sk-toggleable\"><input class=\"sk-toggleable__control sk-hidden--visually\" id=\"sk-estimator-id-9\" type=\"checkbox\" ><label for=\"sk-estimator-id-9\" class=\"sk-toggleable__label sk-toggleable__label-arrow\">XGBClassifier</label><div class=\"sk-toggleable__content\"><pre>XGBClassifier(base_score=None, booster=None, callbacks=None,\n",
              "              colsample_bylevel=None, colsample_bynode=None,\n",
              "              colsample_bytree=None, early_stopping_rounds=None,\n",
              "              enable_categorical=False, eval_metric=None, feature_types=None,\n",
              "              gamma=None, gpu_id=None, grow_policy=None, importance_type=None,\n",
              "              interaction_constraints=None, learning_rate=0.3, max_bin=None,\n",
              "              max_cat_threshold=None, max_cat_to_onehot=None,\n",
              "              max_delta_step=None, max_depth=7, max_leaves=None,\n",
              "              min_child_weight=None, missing=nan, monotone_constraints=None,\n",
              "              n_estimators=200, n_jobs=None, num_parallel_tree=None,\n",
              "              predictor=None, random_state=None, ...)</pre></div></div></div></div></div></div></div></div></div></div>"
            ]
          },
          "metadata": {},
          "execution_count": 147
        }
      ]
    },
    {
      "cell_type": "code",
      "source": [
        "print('Best hyperparameters:', grid_search.best_params_)\n",
        "print('Best score:', grid_search.best_score_)\n",
        "best_model = grid_search.best_estimator_\n",
        "y_pred = best_model.predict(X_test)"
      ],
      "metadata": {
        "id": "q_wm5cvAoRyN",
        "colab": {
          "base_uri": "https://localhost:8080/"
        },
        "outputId": "76d3f44c-b14e-44d8-faba-6e98a81de336"
      },
      "execution_count": 148,
      "outputs": [
        {
          "output_type": "stream",
          "name": "stdout",
          "text": [
            "Best hyperparameters: {'colsample_bytree': 0.8, 'gamma': 0, 'subsample': 0.9}\n",
            "Best score: 0.8227654667717565\n"
          ]
        }
      ]
    },
    {
      "cell_type": "code",
      "source": [
        "print('Accuracy:', accuracy_score(Y_test, y_pred))"
      ],
      "metadata": {
        "colab": {
          "base_uri": "https://localhost:8080/"
        },
        "id": "fbz_HzvKUsHl",
        "outputId": "b163aa2f-3ed7-46ea-b676-00c8bb2fbb1a"
      },
      "execution_count": 150,
      "outputs": [
        {
          "output_type": "stream",
          "name": "stdout",
          "text": [
            "Accuracy: 0.8282452880276082\n"
          ]
        }
      ]
    },
    {
      "cell_type": "code",
      "source": [
        "from sklearn import tree"
      ],
      "metadata": {
        "id": "CgAkp1dyVzZe"
      },
      "execution_count": 151,
      "outputs": []
    },
    {
      "cell_type": "code",
      "source": [
        "clf = tree.DecisionTreeClassifier()"
      ],
      "metadata": {
        "id": "ZoRlQQRA5baW"
      },
      "execution_count": 152,
      "outputs": []
    },
    {
      "cell_type": "code",
      "source": [
        "clf.fit(X_train, Y_train)"
      ],
      "metadata": {
        "colab": {
          "base_uri": "https://localhost:8080/",
          "height": 74
        },
        "id": "i-l3cMKg5hc2",
        "outputId": "c3485806-b591-4a77-cbc4-4f90f645d936"
      },
      "execution_count": 153,
      "outputs": [
        {
          "output_type": "execute_result",
          "data": {
            "text/plain": [
              "DecisionTreeClassifier()"
            ],
            "text/html": [
              "<style>#sk-container-id-4 {color: black;background-color: white;}#sk-container-id-4 pre{padding: 0;}#sk-container-id-4 div.sk-toggleable {background-color: white;}#sk-container-id-4 label.sk-toggleable__label {cursor: pointer;display: block;width: 100%;margin-bottom: 0;padding: 0.3em;box-sizing: border-box;text-align: center;}#sk-container-id-4 label.sk-toggleable__label-arrow:before {content: \"▸\";float: left;margin-right: 0.25em;color: #696969;}#sk-container-id-4 label.sk-toggleable__label-arrow:hover:before {color: black;}#sk-container-id-4 div.sk-estimator:hover label.sk-toggleable__label-arrow:before {color: black;}#sk-container-id-4 div.sk-toggleable__content {max-height: 0;max-width: 0;overflow: hidden;text-align: left;background-color: #f0f8ff;}#sk-container-id-4 div.sk-toggleable__content pre {margin: 0.2em;color: black;border-radius: 0.25em;background-color: #f0f8ff;}#sk-container-id-4 input.sk-toggleable__control:checked~div.sk-toggleable__content {max-height: 200px;max-width: 100%;overflow: auto;}#sk-container-id-4 input.sk-toggleable__control:checked~label.sk-toggleable__label-arrow:before {content: \"▾\";}#sk-container-id-4 div.sk-estimator input.sk-toggleable__control:checked~label.sk-toggleable__label {background-color: #d4ebff;}#sk-container-id-4 div.sk-label input.sk-toggleable__control:checked~label.sk-toggleable__label {background-color: #d4ebff;}#sk-container-id-4 input.sk-hidden--visually {border: 0;clip: rect(1px 1px 1px 1px);clip: rect(1px, 1px, 1px, 1px);height: 1px;margin: -1px;overflow: hidden;padding: 0;position: absolute;width: 1px;}#sk-container-id-4 div.sk-estimator {font-family: monospace;background-color: #f0f8ff;border: 1px dotted black;border-radius: 0.25em;box-sizing: border-box;margin-bottom: 0.5em;}#sk-container-id-4 div.sk-estimator:hover {background-color: #d4ebff;}#sk-container-id-4 div.sk-parallel-item::after {content: \"\";width: 100%;border-bottom: 1px solid gray;flex-grow: 1;}#sk-container-id-4 div.sk-label:hover label.sk-toggleable__label {background-color: #d4ebff;}#sk-container-id-4 div.sk-serial::before {content: \"\";position: absolute;border-left: 1px solid gray;box-sizing: border-box;top: 0;bottom: 0;left: 50%;z-index: 0;}#sk-container-id-4 div.sk-serial {display: flex;flex-direction: column;align-items: center;background-color: white;padding-right: 0.2em;padding-left: 0.2em;position: relative;}#sk-container-id-4 div.sk-item {position: relative;z-index: 1;}#sk-container-id-4 div.sk-parallel {display: flex;align-items: stretch;justify-content: center;background-color: white;position: relative;}#sk-container-id-4 div.sk-item::before, #sk-container-id-4 div.sk-parallel-item::before {content: \"\";position: absolute;border-left: 1px solid gray;box-sizing: border-box;top: 0;bottom: 0;left: 50%;z-index: -1;}#sk-container-id-4 div.sk-parallel-item {display: flex;flex-direction: column;z-index: 1;position: relative;background-color: white;}#sk-container-id-4 div.sk-parallel-item:first-child::after {align-self: flex-end;width: 50%;}#sk-container-id-4 div.sk-parallel-item:last-child::after {align-self: flex-start;width: 50%;}#sk-container-id-4 div.sk-parallel-item:only-child::after {width: 0;}#sk-container-id-4 div.sk-dashed-wrapped {border: 1px dashed gray;margin: 0 0.4em 0.5em 0.4em;box-sizing: border-box;padding-bottom: 0.4em;background-color: white;}#sk-container-id-4 div.sk-label label {font-family: monospace;font-weight: bold;display: inline-block;line-height: 1.2em;}#sk-container-id-4 div.sk-label-container {text-align: center;}#sk-container-id-4 div.sk-container {/* jupyter's `normalize.less` sets `[hidden] { display: none; }` but bootstrap.min.css set `[hidden] { display: none !important; }` so we also need the `!important` here to be able to override the default hidden behavior on the sphinx rendered scikit-learn.org. See: https://github.com/scikit-learn/scikit-learn/issues/21755 */display: inline-block !important;position: relative;}#sk-container-id-4 div.sk-text-repr-fallback {display: none;}</style><div id=\"sk-container-id-4\" class=\"sk-top-container\"><div class=\"sk-text-repr-fallback\"><pre>DecisionTreeClassifier()</pre><b>In a Jupyter environment, please rerun this cell to show the HTML representation or trust the notebook. <br />On GitHub, the HTML representation is unable to render, please try loading this page with nbviewer.org.</b></div><div class=\"sk-container\" hidden><div class=\"sk-item\"><div class=\"sk-estimator sk-toggleable\"><input class=\"sk-toggleable__control sk-hidden--visually\" id=\"sk-estimator-id-10\" type=\"checkbox\" checked><label for=\"sk-estimator-id-10\" class=\"sk-toggleable__label sk-toggleable__label-arrow\">DecisionTreeClassifier</label><div class=\"sk-toggleable__content\"><pre>DecisionTreeClassifier()</pre></div></div></div></div></div>"
            ]
          },
          "metadata": {},
          "execution_count": 153
        }
      ]
    },
    {
      "cell_type": "code",
      "source": [
        "y_pred = clf.predict(X_test)"
      ],
      "metadata": {
        "id": "RSR6uUt26tgO"
      },
      "execution_count": 154,
      "outputs": []
    },
    {
      "cell_type": "code",
      "source": [
        "print('Accuracy:', accuracy_score(Y_test, y_pred))"
      ],
      "metadata": {
        "colab": {
          "base_uri": "https://localhost:8080/"
        },
        "id": "jp81NMhY-3VF",
        "outputId": "01c636ea-4369-49fa-937c-76e62a4e8a58"
      },
      "execution_count": 155,
      "outputs": [
        {
          "output_type": "stream",
          "name": "stdout",
          "text": [
            "Accuracy: 0.7655959649588532\n"
          ]
        }
      ]
    },
    {
      "cell_type": "code",
      "source": [
        "from sklearn.ensemble import RandomForestClassifier"
      ],
      "metadata": {
        "id": "c4sZinTv-569"
      },
      "execution_count": 156,
      "outputs": []
    },
    {
      "cell_type": "code",
      "source": [
        "clf = RandomForestClassifier()"
      ],
      "metadata": {
        "id": "vSSK3e6j_GvS"
      },
      "execution_count": 165,
      "outputs": []
    },
    {
      "cell_type": "code",
      "source": [
        "clf.fit(X_train, Y_train)"
      ],
      "metadata": {
        "colab": {
          "base_uri": "https://localhost:8080/",
          "height": 74
        },
        "id": "09iB8Nde_Oqa",
        "outputId": "8ff87f56-6fce-41d0-9226-52d792f1a5b7"
      },
      "execution_count": 166,
      "outputs": [
        {
          "output_type": "execute_result",
          "data": {
            "text/plain": [
              "RandomForestClassifier()"
            ],
            "text/html": [
              "<style>#sk-container-id-7 {color: black;background-color: white;}#sk-container-id-7 pre{padding: 0;}#sk-container-id-7 div.sk-toggleable {background-color: white;}#sk-container-id-7 label.sk-toggleable__label {cursor: pointer;display: block;width: 100%;margin-bottom: 0;padding: 0.3em;box-sizing: border-box;text-align: center;}#sk-container-id-7 label.sk-toggleable__label-arrow:before {content: \"▸\";float: left;margin-right: 0.25em;color: #696969;}#sk-container-id-7 label.sk-toggleable__label-arrow:hover:before {color: black;}#sk-container-id-7 div.sk-estimator:hover label.sk-toggleable__label-arrow:before {color: black;}#sk-container-id-7 div.sk-toggleable__content {max-height: 0;max-width: 0;overflow: hidden;text-align: left;background-color: #f0f8ff;}#sk-container-id-7 div.sk-toggleable__content pre {margin: 0.2em;color: black;border-radius: 0.25em;background-color: #f0f8ff;}#sk-container-id-7 input.sk-toggleable__control:checked~div.sk-toggleable__content {max-height: 200px;max-width: 100%;overflow: auto;}#sk-container-id-7 input.sk-toggleable__control:checked~label.sk-toggleable__label-arrow:before {content: \"▾\";}#sk-container-id-7 div.sk-estimator input.sk-toggleable__control:checked~label.sk-toggleable__label {background-color: #d4ebff;}#sk-container-id-7 div.sk-label input.sk-toggleable__control:checked~label.sk-toggleable__label {background-color: #d4ebff;}#sk-container-id-7 input.sk-hidden--visually {border: 0;clip: rect(1px 1px 1px 1px);clip: rect(1px, 1px, 1px, 1px);height: 1px;margin: -1px;overflow: hidden;padding: 0;position: absolute;width: 1px;}#sk-container-id-7 div.sk-estimator {font-family: monospace;background-color: #f0f8ff;border: 1px dotted black;border-radius: 0.25em;box-sizing: border-box;margin-bottom: 0.5em;}#sk-container-id-7 div.sk-estimator:hover {background-color: #d4ebff;}#sk-container-id-7 div.sk-parallel-item::after {content: \"\";width: 100%;border-bottom: 1px solid gray;flex-grow: 1;}#sk-container-id-7 div.sk-label:hover label.sk-toggleable__label {background-color: #d4ebff;}#sk-container-id-7 div.sk-serial::before {content: \"\";position: absolute;border-left: 1px solid gray;box-sizing: border-box;top: 0;bottom: 0;left: 50%;z-index: 0;}#sk-container-id-7 div.sk-serial {display: flex;flex-direction: column;align-items: center;background-color: white;padding-right: 0.2em;padding-left: 0.2em;position: relative;}#sk-container-id-7 div.sk-item {position: relative;z-index: 1;}#sk-container-id-7 div.sk-parallel {display: flex;align-items: stretch;justify-content: center;background-color: white;position: relative;}#sk-container-id-7 div.sk-item::before, #sk-container-id-7 div.sk-parallel-item::before {content: \"\";position: absolute;border-left: 1px solid gray;box-sizing: border-box;top: 0;bottom: 0;left: 50%;z-index: -1;}#sk-container-id-7 div.sk-parallel-item {display: flex;flex-direction: column;z-index: 1;position: relative;background-color: white;}#sk-container-id-7 div.sk-parallel-item:first-child::after {align-self: flex-end;width: 50%;}#sk-container-id-7 div.sk-parallel-item:last-child::after {align-self: flex-start;width: 50%;}#sk-container-id-7 div.sk-parallel-item:only-child::after {width: 0;}#sk-container-id-7 div.sk-dashed-wrapped {border: 1px dashed gray;margin: 0 0.4em 0.5em 0.4em;box-sizing: border-box;padding-bottom: 0.4em;background-color: white;}#sk-container-id-7 div.sk-label label {font-family: monospace;font-weight: bold;display: inline-block;line-height: 1.2em;}#sk-container-id-7 div.sk-label-container {text-align: center;}#sk-container-id-7 div.sk-container {/* jupyter's `normalize.less` sets `[hidden] { display: none; }` but bootstrap.min.css set `[hidden] { display: none !important; }` so we also need the `!important` here to be able to override the default hidden behavior on the sphinx rendered scikit-learn.org. See: https://github.com/scikit-learn/scikit-learn/issues/21755 */display: inline-block !important;position: relative;}#sk-container-id-7 div.sk-text-repr-fallback {display: none;}</style><div id=\"sk-container-id-7\" class=\"sk-top-container\"><div class=\"sk-text-repr-fallback\"><pre>RandomForestClassifier()</pre><b>In a Jupyter environment, please rerun this cell to show the HTML representation or trust the notebook. <br />On GitHub, the HTML representation is unable to render, please try loading this page with nbviewer.org.</b></div><div class=\"sk-container\" hidden><div class=\"sk-item\"><div class=\"sk-estimator sk-toggleable\"><input class=\"sk-toggleable__control sk-hidden--visually\" id=\"sk-estimator-id-13\" type=\"checkbox\" checked><label for=\"sk-estimator-id-13\" class=\"sk-toggleable__label sk-toggleable__label-arrow\">RandomForestClassifier</label><div class=\"sk-toggleable__content\"><pre>RandomForestClassifier()</pre></div></div></div></div></div>"
            ]
          },
          "metadata": {},
          "execution_count": 166
        }
      ]
    },
    {
      "cell_type": "code",
      "source": [
        "y_pred = clf.predict(X_test)"
      ],
      "metadata": {
        "id": "rrS0b59c_Q1N"
      },
      "execution_count": 167,
      "outputs": []
    },
    {
      "cell_type": "code",
      "source": [
        "print('Accuracy:', accuracy_score(Y_test, y_pred))"
      ],
      "metadata": {
        "colab": {
          "base_uri": "https://localhost:8080/"
        },
        "id": "gnohyEDl_TIp",
        "outputId": "7591d1b4-5368-4e6f-c849-3985075c33d7"
      },
      "execution_count": 168,
      "outputs": [
        {
          "output_type": "stream",
          "name": "stdout",
          "text": [
            "Accuracy: 0.8539952216617999\n"
          ]
        }
      ]
    },
    {
      "cell_type": "code",
      "source": [
        "import pickle"
      ],
      "metadata": {
        "id": "GMNKgpsd_9-n"
      },
      "execution_count": 169,
      "outputs": []
    },
    {
      "cell_type": "code",
      "source": [
        "filename = 'finalized_model.sav'\n",
        "pickle.dump(clf, open(filename, 'wb'))\n",
        "loaded_model = pickle.load(open(filename, 'rb'))\n",
        "result = loaded_model.score(X_test, Y_test)\n",
        "print(result)"
      ],
      "metadata": {
        "colab": {
          "base_uri": "https://localhost:8080/"
        },
        "id": "HmKorr6-_U3h",
        "outputId": "92c4721e-a84f-4d78-c686-ca573a7cdd5b"
      },
      "execution_count": 170,
      "outputs": [
        {
          "output_type": "stream",
          "name": "stdout",
          "text": [
            "0.8539952216617999\n"
          ]
        }
      ]
    },
    {
      "cell_type": "code",
      "source": [
        "y_pred = loaded_model.predict(X_test)"
      ],
      "metadata": {
        "id": "kICHI6puAHY8"
      },
      "execution_count": 173,
      "outputs": []
    },
    {
      "cell_type": "code",
      "source": [
        "print('Accuracy:', accuracy_score(Y_test, y_pred))"
      ],
      "metadata": {
        "colab": {
          "base_uri": "https://localhost:8080/"
        },
        "id": "67dUCMHJBieY",
        "outputId": "19c3a941-7422-46be-feb9-50598d37e6f6"
      },
      "execution_count": 174,
      "outputs": [
        {
          "output_type": "stream",
          "name": "stdout",
          "text": [
            "Accuracy: 0.8539952216617999\n"
          ]
        }
      ]
    },
    {
      "cell_type": "code",
      "source": [
        "import matplotlib.pyplot as plt\n",
        "from sklearn.metrics import confusion_matrix\n",
        "from sklearn.metrics import roc_curve"
      ],
      "metadata": {
        "id": "3BrrU5h6FE-O"
      },
      "execution_count": 182,
      "outputs": []
    },
    {
      "cell_type": "markdown",
      "source": [
        "##Confusion matrix"
      ],
      "metadata": {
        "id": "tmuMR7VfGmpX"
      }
    },
    {
      "cell_type": "code",
      "source": [
        "conf_matrix = confusion_matrix(y_true=Y_test, y_pred=y_pred)\n",
        "#\n",
        "# Print the confusion matrix using Matplotlib\n",
        "#\n",
        "fig, ax = plt.subplots(figsize=(7.5, 7.5))\n",
        "ax.matshow(conf_matrix, cmap=plt.cm.Blues, alpha=0.3)\n",
        "for i in range(conf_matrix.shape[0]):\n",
        "    for j in range(conf_matrix.shape[1]):\n",
        "        ax.text(x=j, y=i,s=conf_matrix[i, j], va='center', ha='center', size='xx-large')\n",
        " \n",
        "plt.xlabel('Predictions', fontsize=18)\n",
        "plt.ylabel('Actuals', fontsize=18)\n",
        "plt.title('Confusion Matrix', fontsize=18)\n",
        "plt.show()"
      ],
      "metadata": {
        "colab": {
          "base_uri": "https://localhost:8080/",
          "height": 501
        },
        "id": "ew84hh5sBzGx",
        "outputId": "44179086-07ca-412a-cfb4-e57182a353c6"
      },
      "execution_count": 177,
      "outputs": [
        {
          "output_type": "display_data",
          "data": {
            "text/plain": [
              "<Figure size 540x540 with 1 Axes>"
            ],
            "image/png": "[encoded data removed]"
          },
          "metadata": {
            "needs_background": "light"
          }
        }
      ]
    },
    {
      "cell_type": "markdown",
      "source": [
        "##Roc Curve"
      ],
      "metadata": {
        "id": "hZ8-Q_jzGsxz"
      }
    },
    {
      "cell_type": "code",
      "source": [
        "fpr, tpr, _ = roc_curve(Y_test,  y_pred)\n",
        "\n",
        "#create ROC curve\n",
        "plt.plot(fpr,tpr)\n",
        "plt.ylabel('True Positive Rate')\n",
        "plt.xlabel('False Positive Rate')\n",
        "plt.show()"
      ],
      "metadata": {
        "colab": {
          "base_uri": "https://localhost:8080/",
          "height": 279
        },
        "id": "FAz6wGd3FyJL",
        "outputId": "052313d8-3de2-461f-8f37-a6187686362d"
      },
      "execution_count": 179,
      "outputs": [
        {
          "output_type": "display_data",
          "data": {
            "text/plain": [
              "<Figure size 432x288 with 1 Axes>"
            ],
            "image/png": "[encoded data removed]"
          },
          "metadata": {
            "needs_background": "light"
          }
        }
      ]
    },
    {
      "cell_type": "code",
      "source": [
        "from sklearn.metrics import roc_auc_score"
      ],
      "metadata": {
        "id": "xb4is-97I-3O"
      },
      "execution_count": 184,
      "outputs": []
    },
    {
      "cell_type": "code",
      "source": [
        "auc = roc_auc_score(Y_test, y_pred)\n",
        "\n",
        "#create ROC curve\n",
        "plt.plot(fpr,tpr,label=\"AUC=\"+str(auc))\n",
        "plt.ylabel('True Positive Rate')\n",
        "plt.xlabel('False Positive Rate')\n",
        "plt.legend(loc=4)\n",
        "plt.show()"
      ],
      "metadata": {
        "colab": {
          "base_uri": "https://localhost:8080/",
          "height": 279
        },
        "id": "_YddoK0SG8Pa",
        "outputId": "9ea10e9a-620d-4c48-e582-32ca513dafbf"
      },
      "execution_count": 185,
      "outputs": [
        {
          "output_type": "display_data",
          "data": {
            "text/plain": [
              "<Figure size 432x288 with 1 Axes>"
            ],
            "image/png": "[encoded data removed]"
          },
          "metadata": {
            "needs_background": "light"
          }
        }
      ]
    },
    {
      "cell_type": "code",
      "source": [],
      "metadata": {
        "id": "T4lhbNdgI5H1"
      },
      "execution_count": null,
      "outputs": []
    }
  ]
}